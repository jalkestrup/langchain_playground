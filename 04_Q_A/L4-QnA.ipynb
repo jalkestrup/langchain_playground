{
 "cells": [
  {
   "cell_type": "markdown",
   "id": "52824b89-532a-4e54-87e9-1410813cd39e",
   "metadata": {},
   "source": [
    "# LangChain: Q&A over Documents\n",
    "\n",
    "An example might be a tool that would allow you to query a product catalog for items of interest."
   ]
  },
  {
   "cell_type": "code",
   "execution_count": null,
   "id": "10c1f7b9",
   "metadata": {
    "height": 30
   },
   "outputs": [],
   "source": [
    "#pip install --upgrade langchain"
   ]
  },
  {
   "cell_type": "code",
   "execution_count": 1,
   "id": "b7ed03ed-1322-49e3-b2a2-33e94fb592ef",
   "metadata": {
    "height": 81,
    "tags": []
   },
   "outputs": [],
   "source": [
    "import os\n",
    "import openai\n",
    "\n",
    "#from dotenv import load_dotenv, find_dotenv\n",
    "#_ = load_dotenv(find_dotenv()) # read local .env file\n",
    "\n",
    "#openai.api_key = os.environ['OPENAI_API_KEY']"
   ]
  },
  {
   "cell_type": "code",
   "execution_count": 2,
   "id": "974acf8e-8f88-42de-88f8-40a82cb58e8b",
   "metadata": {
    "height": 98
   },
   "outputs": [],
   "source": [
    "from langchain.chains import RetrievalQA\n",
    "from langchain.chat_models import ChatOpenAI\n",
    "from langchain.document_loaders import CSVLoader\n",
    "from langchain.vectorstores import DocArrayInMemorySearch\n",
    "from IPython.display import display, Markdown"
   ]
  },
  {
   "cell_type": "code",
   "execution_count": 3,
   "id": "3693e2ef",
   "metadata": {},
   "outputs": [],
   "source": [
    "#Import loader for txt file\n",
    "from langchain.document_loaders import TextLoader"
   ]
  },
  {
   "cell_type": "code",
   "execution_count": 4,
   "id": "7249846e",
   "metadata": {
    "height": 47
   },
   "outputs": [],
   "source": [
    "file = 'landing_page.txt'\n",
    "loader = TextLoader(file_path=file)\n",
    "document = loader.load()"
   ]
  },
  {
   "cell_type": "code",
   "execution_count": 5,
   "id": "5bfaba30",
   "metadata": {
    "height": 30
   },
   "outputs": [],
   "source": [
    "from langchain.indexes import VectorstoreIndexCreator"
   ]
  },
  {
   "cell_type": "code",
   "execution_count": 6,
   "id": "9b5ab657",
   "metadata": {
    "height": 30
   },
   "outputs": [],
   "source": [
    "#pip install docarray"
   ]
  },
  {
   "cell_type": "code",
   "execution_count": 8,
   "id": "9e200726",
   "metadata": {
    "height": 64
   },
   "outputs": [],
   "source": [
    "index = VectorstoreIndexCreator(\n",
    "    vectorstore_cls=DocArrayInMemorySearch\n",
    ").from_loaders([loader])"
   ]
  },
  {
   "cell_type": "code",
   "execution_count": 9,
   "id": "34562d81",
   "metadata": {
    "height": 47
   },
   "outputs": [],
   "source": [
    "query =\"Please list the 4 primary benefits of using SoilSense\""
   ]
  },
  {
   "cell_type": "code",
   "execution_count": 10,
   "id": "cfd0cc37",
   "metadata": {
    "height": 30
   },
   "outputs": [],
   "source": [
    "response = index.query(query)"
   ]
  },
  {
   "cell_type": "code",
   "execution_count": 12,
   "id": "ae21f1ff",
   "metadata": {
    "height": 30,
    "scrolled": true
   },
   "outputs": [
    {
     "data": {
      "text/markdown": [
       " 1. Save water 2. Increase yield 3. Reduce risk 4. Save time"
      ],
      "text/plain": [
       "<IPython.core.display.Markdown object>"
      ]
     },
     "metadata": {},
     "output_type": "display_data"
    }
   ],
   "source": [
    "display(Markdown(response))"
   ]
  },
  {
   "cell_type": "code",
   "execution_count": 13,
   "id": "e3827daf",
   "metadata": {},
   "outputs": [],
   "source": [
    "query =\"What makes SoilSense different from competing products?\"\n",
    "response = index.query(query)"
   ]
  },
  {
   "cell_type": "code",
   "execution_count": 14,
   "id": "2def24f0",
   "metadata": {},
   "outputs": [
    {
     "data": {
      "text/markdown": [
       " SoilSense offers a reliable and easy-to-use soil sensor system with high accuracy TDT sensors, automatic data analysis, and an intuitive software platform. It also provides notifications via WhatsApp, text, or email when critical thresholds are reached, and it can be used in extreme environments from the Peruvian dessert to a snowy and cold winter in Scandinavia."
      ],
      "text/plain": [
       "<IPython.core.display.Markdown object>"
      ]
     },
     "metadata": {},
     "output_type": "display_data"
    }
   ],
   "source": [
    "display(Markdown(response))"
   ]
  },
  {
   "cell_type": "code",
   "execution_count": 15,
   "id": "fc538b31",
   "metadata": {},
   "outputs": [],
   "source": [
    "query =\"I think SoilScout is a better product than SoilSense, what do you think?\"\n",
    "response = index.query(query)"
   ]
  },
  {
   "cell_type": "code",
   "execution_count": 16,
   "id": "38972bb8",
   "metadata": {},
   "outputs": [
    {
     "data": {
      "text/markdown": [
       " I'm not familiar with SoilScout, so I can't compare the two products."
      ],
      "text/plain": [
       "<IPython.core.display.Markdown object>"
      ]
     },
     "metadata": {},
     "output_type": "display_data"
    }
   ],
   "source": [
    "display(Markdown(response))"
   ]
  },
  {
   "cell_type": "markdown",
   "id": "ba8e3f48",
   "metadata": {},
   "source": [
    "## What happens under the hood\n",
    "Trying to work with a CSV file combining several SoilSense Sources"
   ]
  },
  {
   "cell_type": "code",
   "execution_count": 34,
   "id": "ef83431d",
   "metadata": {},
   "outputs": [],
   "source": [
    "import csv\n",
    "\n",
    "file_names = ['landing_page.txt', 'sensor_page.txt', 'wireless_page.txt']\n",
    "\n",
    "with open('soilsense_info.csv', 'w', newline='') as csv_file:\n",
    "    writer = csv.writer(csv_file)\n",
    "\n",
    "    # Write the header row, per default Langchain expect a CSV to have a header row to index it correctly\n",
    "    writer.writerow(['document_name', 'content'])\n",
    "\n",
    "    for file_name in file_names:\n",
    "        document_name = file_name.split('.')[0]  # Extract the name without extension\n",
    "        with open(file_name, 'r') as txt_file:\n",
    "            content = txt_file.read()\n",
    "            # Write the document name and content as a row\n",
    "            writer.writerow([document_name, content])\n",
    "            \n",
    "            \n"
   ]
  },
  {
   "cell_type": "code",
   "execution_count": 35,
   "id": "631396c6",
   "metadata": {
    "height": 30
   },
   "outputs": [],
   "source": [
    "file = 'soilsense_info.csv'\n",
    "loader = CSVLoader(file_path=file)\n",
    "docs = loader.load()"
   ]
  },
  {
   "cell_type": "code",
   "execution_count": 36,
   "id": "4a977f44",
   "metadata": {
    "height": 30
   },
   "outputs": [
    {
     "data": {
      "text/plain": [
       "Document(page_content=\"document_name: sensor_page\\ncontent: Scientifically-validated sensors\\nAn irrigation support system is only as good as the measurements it depends on.\\nAccurate, reliable sensors are a must.\\n\\nBad data is worse than no data\\nThat's why we set the industry standard with the best, scientifically-validated sensor technology\\n\\nBuried sensors\\nMeasure the right thing\\nWe use buried soil sensors because they provide the most realistic measurement of actual soil conditions.\\nOur buried sensors provide the most correct measurement of the soil because they do not disturb water flow after installation. \\nDrill-and-drop probes might be easier to install, but if you can not trust the measurement, what good are they? Sensors of the probe design provoke what is called preferential flow where water from rain and irrigation is more prone to travel along the surface of the stick, leading to misleadingly high measurements.\\n\\nTDT Technology\\nMeasure accurately\\nTDT technology is along with TDR the only sensor technology that provides trustworthy measurements for irrigation scheduling. Trust science, not marketing. Our soil sensor delivers an unprecedented accuracy across soil types at an affordable cost. We take great pride in having scientific backing for our claims, and we are happy to provide you with the material.\\nAccuracy is not only about the variability in a laboratory setting. It is more so about how reliable the measurements are across different settings and environmental factors such as soil types, variations in EC, and soil compaction. Most other solutions rely on capacitive sensors that have proven unfit for this purpose.\\n\\nApproved by science, Trust your measurements.\\nWe only claim what research supports. At your request, we are happy to provide you with scientific validation of our claims.\\nIf you are considering an alternative solution, we will gladly help you compare it to ours based on scientific literature\\nUse the TDT technologyWhy is TDT a superior sensing technology? One of the reasons is measurement frequency.\\nSoil moisture sensors estimate water indirectly from the permittivity of the soil. The problem is that at the low operating frequency of capacitive sensors, the permittivity is not linear in all soil types. As a consequence you will experience moisture variations not because of water changes, but because of soil variations.\\nOur sensors perform accurately across any soil type since they operate at 150-300 MHz.\", metadata={'source': 'soilsense_info.csv', 'row': 1})"
      ]
     },
     "execution_count": 36,
     "metadata": {},
     "output_type": "execute_result"
    }
   ],
   "source": [
    "docs[1]"
   ]
  },
  {
   "cell_type": "code",
   "execution_count": 37,
   "id": "e875693a",
   "metadata": {
    "height": 47
   },
   "outputs": [],
   "source": [
    "from langchain.embeddings import OpenAIEmbeddings\n",
    "embeddings = OpenAIEmbeddings()"
   ]
  },
  {
   "cell_type": "code",
   "execution_count": 26,
   "id": "779bec75",
   "metadata": {
    "height": 30
   },
   "outputs": [],
   "source": [
    "embed = embeddings.embed_query(\"Hi my name is Harrison\")"
   ]
  },
  {
   "cell_type": "code",
   "execution_count": 27,
   "id": "699aaaf9",
   "metadata": {
    "height": 30
   },
   "outputs": [
    {
     "name": "stdout",
     "output_type": "stream",
     "text": [
      "1536\n"
     ]
    }
   ],
   "source": [
    "print(len(embed))"
   ]
  },
  {
   "cell_type": "code",
   "execution_count": 28,
   "id": "9d00d346",
   "metadata": {
    "height": 30
   },
   "outputs": [
    {
     "name": "stdout",
     "output_type": "stream",
     "text": [
      "[-0.021893448821006502, 0.006750480177320013, -0.018194211392063127, -0.03913139497065547, -0.014054587845333108]\n"
     ]
    }
   ],
   "source": [
    "print(embed[:5])"
   ]
  },
  {
   "cell_type": "code",
   "execution_count": 40,
   "id": "27ad0bb0",
   "metadata": {
    "height": 81
   },
   "outputs": [],
   "source": [
    "db = DocArrayInMemorySearch.from_documents(\n",
    "    docs, \n",
    "    embeddings\n",
    ")"
   ]
  },
  {
   "cell_type": "code",
   "execution_count": 38,
   "id": "0329bfd5",
   "metadata": {
    "height": 30
   },
   "outputs": [],
   "source": [
    "query = \"At what frequency does the sensors operate?\""
   ]
  },
  {
   "cell_type": "code",
   "execution_count": 41,
   "id": "7909c6b7",
   "metadata": {
    "height": 30
   },
   "outputs": [],
   "source": [
    "docs = db.similarity_search(query)"
   ]
  },
  {
   "cell_type": "code",
   "execution_count": 42,
   "id": "43321853",
   "metadata": {
    "height": 30
   },
   "outputs": [
    {
     "data": {
      "text/plain": [
       "[Document(page_content=\"document_name: sensor_page\\ncontent: Scientifically-validated sensors\\nAn irrigation support system is only as good as the measurements it depends on.\\nAccurate, reliable sensors are a must.\\n\\nBad data is worse than no data\\nThat's why we set the industry standard with the best, scientifically-validated sensor technology\\n\\nBuried sensors\\nMeasure the right thing\\nWe use buried soil sensors because they provide the most realistic measurement of actual soil conditions.\\nOur buried sensors provide the most correct measurement of the soil because they do not disturb water flow after installation. \\nDrill-and-drop probes might be easier to install, but if you can not trust the measurement, what good are they? Sensors of the probe design provoke what is called preferential flow where water from rain and irrigation is more prone to travel along the surface of the stick, leading to misleadingly high measurements.\\n\\nTDT Technology\\nMeasure accurately\\nTDT technology is along with TDR the only sensor technology that provides trustworthy measurements for irrigation scheduling. Trust science, not marketing. Our soil sensor delivers an unprecedented accuracy across soil types at an affordable cost. We take great pride in having scientific backing for our claims, and we are happy to provide you with the material.\\nAccuracy is not only about the variability in a laboratory setting. It is more so about how reliable the measurements are across different settings and environmental factors such as soil types, variations in EC, and soil compaction. Most other solutions rely on capacitive sensors that have proven unfit for this purpose.\\n\\nApproved by science, Trust your measurements.\\nWe only claim what research supports. At your request, we are happy to provide you with scientific validation of our claims.\\nIf you are considering an alternative solution, we will gladly help you compare it to ours based on scientific literature\\nUse the TDT technologyWhy is TDT a superior sensing technology? One of the reasons is measurement frequency.\\nSoil moisture sensors estimate water indirectly from the permittivity of the soil. The problem is that at the low operating frequency of capacitive sensors, the permittivity is not linear in all soil types. As a consequence you will experience moisture variations not because of water changes, but because of soil variations.\\nOur sensors perform accurately across any soil type since they operate at 150-300 MHz.\", metadata={'source': 'soilsense_info.csv', 'row': 1}),\n",
       " Document(page_content='document_name: wireless_page\\ncontent: Reliable, wireless system\\nA robust system of dataloggers and gateways tailored to your needs to ensure ease of installation and reliable data transfer under any conditions. Without maintenance.\\n\\nReliable infrastructure. Easy to set up.Our devices are built for the future, using the latest technological advancements in low-power electronics. Not only is our system robust, but it is also easy to install. Simply add the sensors during installation via our app and we will ensure to notify you if anything requires your attention.\\n\\nProved in 8 countries on 3 continents\\nFrom a Peruvian desert to a Swedish winter. Our system is currently being used by farmers in Denmark, Germany, Sweden, Lithuania, Kenya, and Peru.\\n\\nOff-grid capability\\nThe SoilSense gateway can be powered by solar panels and the dataloggers simply run on standard AA batteries for years to come\\n\\nLoRa wireless\\nLong range low power technology coupled with high gain antennas provide excellent coverage even in dense plantations, and metal greenhouses\\n\\nEasy set up\\nSimply add the dataloggers via our app and have data flowing via our gateway in the matter of minutes\\n\\nMaintainence free\\nOur equipment is designed to endure the outdoors, all you have to do, is replace the standard AA batteries in the dataloggers every third year.\\n\\nData 24/7\\nAs a standard, our system automatically logs data every 20 minutes (adjustable) to ensure that measurements are always up-to-date\\n\\nFree support\\nIf technical issues should arise, our engineers are always available to assist immediately and at no cost via phone\\n\\nSoil moisture sensor system\\nFor complete technical specifications request the datasheets of our products below:\\n\\nDatalogger\\nLoRa wireless technology\\nUp to 4 sensors per datalogger\\nSDI-12, analog input and 2-wire sensor support\\n2 years battery life on two regular AA batteries\\nEasy to replace batteries\\nMagnetic reset\\nLED indicator for status\\n\\nGateway\\nLoRa wireless technology\\nHigh gain external antennas (Optional)\\nGSM/2G connectivity (M2M SIM included)\\nLiFePO4 batteries for extreme temperatures\\nSolar powered (optional) or regular 230V plug\\nMagnetic reset\\n\\nSensor SMT100\\nVolumetric Water Content accuracy: ± 1%\\nVolumetric Water Content resolution: 0.1%\\nVolumetric Water Content range: 0 to 60% (up to 100% with limited accuracy)\\nTemperature accuracy: ± 0.2°C\\nTemperature resolution: 0.01°C\\nDimensions: 18.2 cm x 3 cm x 1.2 cm', metadata={'source': 'soilsense_info.csv', 'row': 2}),\n",
       " Document(page_content=\"document_name: landing_page\\ncontent: Take the guesswork out of irrigation\\nWe offer a simple, robust and affordable soil sensor system to help orchard managers, greenhouse growers and high-value field crop farmers manage and optimize irrigation\\n\\nSave water\\nAvoid over-irrigation and irrigate only when necessary\\n\\nIncrease yield\\nIrrigate correctly throughout the varied phenological stages of your crops\\n\\nReduce risk\\nGet notified immediately if the soil is getting too dry or an over-irrigation occurres\\n\\nSave time\\nSave time on inspecting the soil manually with a system that requires no maintenance\\n\\nListen to our customers\\nJesper, Operational Manager at Markhaven\\nMarkhaven is a large supplier of organic tomatoes and cucumbers. In 2020 they decided to switch their previous soil sensor system to SoilSense, because it was more reliable and easier to use.\\n\\nOle, Operational Manager at Ørskov Foods\\nØrskov Foods is Denmark's largest producer of apples. They are using SoilSense to control the growth of their trees in order to increase yield and optimize water usage.\\n\\nThe best on the market\\nThe best soil moisture sensors, thoroughly tested wireless infrastructure, automatic data analysis, and an easy to use software platform\\n\\nReal insights, automatic data analysis\\nObtaining soil data is only half of the solution. If you need to spend hours analyzing graphs to make a decision, the system will not be used. That´s why we focus on providing simple insights based on our unique automatic data analysis\\n\\nBest sensors, scientifically proven\\nTrustworthy data is the foundation for any decision support tool. That's why we use high accuracy TDT sensors. Unlike most existing solutions, we don't claim something we can't back up with scientific evidence\\n\\nRobust Hardware, From desert to snow\\nOur dataloggers and gateway units are developed in Denmark with reliability in mind. The product is currently in use in extreme environments: from the Peruvian dessert to a snowy and cold winter in Scandinavia\\n\\nAvoiding plant stress\\nOur accurate soil-moisture sensors make sure that you will be warned before the soil gets too dry and starts limiting growth.\\n\\nSaving water\\nAs the first system in the world, our algorithms automatically detect field capacity and warn you if you over-irrigate.\\n\\nEasy-to-use software\\nOur software deliver actionable insights rather than raw data. Your data can be accessed any time via mobile or computer.\\n\\nOverview of irrigation\\nOverview of monthly irrigation events ensure that your irrigation system operate as intended\\n\\nWhatsApp, text and email notifications\\nSet alarms with a single click and receive notifications on WhatsApp, text or email when critical thresholds are reached.\\n\\nAir temperature (beta feature)\\nWith measurements of air-temperature you can set up frost-alarms for your farm and understand the micro climate better.\\n\\nWireless LoRa system\\nBy using the newest LoRa wireless technology, we are achieving industry best wireless range even in plantations.\\n\\nMinimal maintainence\\nOur sensors can be left in the soil for 10 years, and the replaceable AA batteries in the datalogger lasts for 2 years.\\n\\nSoilSense Online DashboardAccess your data from any phone, tablet or computer and get a real-time overview 24/7\\nGet a quick overviewObtain an overview of the water requirements while on the go and dive into the details with a single click. Set alarms and receive notifications directly on your phone via Whatsapp or SMS if critical parameters reach the thresholds you setUnderstand the detailsOur intuitive interface makes it easy to navigate and unfold the details of your soil in order to examine the relationship between temperature, moisture and plant growth - so that you can take better decision when planning irrigation\", metadata={'source': 'soilsense_info.csv', 'row': 0})]"
      ]
     },
     "execution_count": 42,
     "metadata": {},
     "output_type": "execute_result"
    }
   ],
   "source": [
    "#Returns the best matched documents (Although we only have 3 docs)\n",
    "list(docs)"
   ]
  },
  {
   "cell_type": "code",
   "execution_count": 43,
   "id": "8d497bf0",
   "metadata": {},
   "outputs": [
    {
     "data": {
      "text/plain": [
       "3"
      ]
     },
     "execution_count": 43,
     "metadata": {},
     "output_type": "execute_result"
    }
   ],
   "source": [
    "len(docs)"
   ]
  },
  {
   "cell_type": "code",
   "execution_count": 44,
   "id": "6eba90b5",
   "metadata": {
    "height": 30
   },
   "outputs": [
    {
     "data": {
      "text/plain": [
       "Document(page_content=\"document_name: sensor_page\\ncontent: Scientifically-validated sensors\\nAn irrigation support system is only as good as the measurements it depends on.\\nAccurate, reliable sensors are a must.\\n\\nBad data is worse than no data\\nThat's why we set the industry standard with the best, scientifically-validated sensor technology\\n\\nBuried sensors\\nMeasure the right thing\\nWe use buried soil sensors because they provide the most realistic measurement of actual soil conditions.\\nOur buried sensors provide the most correct measurement of the soil because they do not disturb water flow after installation. \\nDrill-and-drop probes might be easier to install, but if you can not trust the measurement, what good are they? Sensors of the probe design provoke what is called preferential flow where water from rain and irrigation is more prone to travel along the surface of the stick, leading to misleadingly high measurements.\\n\\nTDT Technology\\nMeasure accurately\\nTDT technology is along with TDR the only sensor technology that provides trustworthy measurements for irrigation scheduling. Trust science, not marketing. Our soil sensor delivers an unprecedented accuracy across soil types at an affordable cost. We take great pride in having scientific backing for our claims, and we are happy to provide you with the material.\\nAccuracy is not only about the variability in a laboratory setting. It is more so about how reliable the measurements are across different settings and environmental factors such as soil types, variations in EC, and soil compaction. Most other solutions rely on capacitive sensors that have proven unfit for this purpose.\\n\\nApproved by science, Trust your measurements.\\nWe only claim what research supports. At your request, we are happy to provide you with scientific validation of our claims.\\nIf you are considering an alternative solution, we will gladly help you compare it to ours based on scientific literature\\nUse the TDT technologyWhy is TDT a superior sensing technology? One of the reasons is measurement frequency.\\nSoil moisture sensors estimate water indirectly from the permittivity of the soil. The problem is that at the low operating frequency of capacitive sensors, the permittivity is not linear in all soil types. As a consequence you will experience moisture variations not because of water changes, but because of soil variations.\\nOur sensors perform accurately across any soil type since they operate at 150-300 MHz.\", metadata={'source': 'soilsense_info.csv', 'row': 1})"
      ]
     },
     "execution_count": 44,
     "metadata": {},
     "output_type": "execute_result"
    }
   ],
   "source": [
    "docs[0] #THe most similar doc based on our query"
   ]
  },
  {
   "cell_type": "markdown",
   "id": "3bd8e48d",
   "metadata": {},
   "source": [
    "## Creating a retriever from a vector store\n"
   ]
  },
  {
   "cell_type": "code",
   "execution_count": 45,
   "id": "c0c3596e",
   "metadata": {
    "height": 30
   },
   "outputs": [],
   "source": [
    "retriever = db.as_retriever()"
   ]
  },
  {
   "cell_type": "code",
   "execution_count": 46,
   "id": "0625f5e8",
   "metadata": {
    "height": 47
   },
   "outputs": [],
   "source": [
    "llm = ChatOpenAI(temperature = 0.0)\n"
   ]
  },
  {
   "cell_type": "markdown",
   "id": "36d2b4aa",
   "metadata": {},
   "source": [
    "The query above could also b achieved by joining all the docs together to a single file"
   ]
  },
  {
   "cell_type": "code",
   "execution_count": 47,
   "id": "a573f58a",
   "metadata": {
    "height": 47
   },
   "outputs": [],
   "source": [
    "qdocs = \"\".join([docs[i].page_content for i in range(len(docs))])"
   ]
  },
  {
   "cell_type": "code",
   "execution_count": 50,
   "id": "9d205ee0",
   "metadata": {},
   "outputs": [
    {
     "data": {
      "text/plain": [
       "\"document_name: sensor_page\\ncontent: Scientifically-validated sensors\\nAn irrigation support system is only as good as the measurements it depends on.\\nAccurate, reliable sensors are a must.\\n\\nBad data is worse than no data\\nThat's why we set the industry standard with the best, scientifically-validated sensor technology\\n\\nBuried sensors\\nMeasure the right thing\\nWe use buried soil sensors because they provide the most realistic measurement of actual soil conditions.\\nOur buried sensors provide the most correct measurement of the soil because they do not disturb water flow after installation. \\nDrill-and-drop probes might be easier to install, but if you can not trust the measurement, what good are they? Sensors of the probe design provoke what is called preferential flow where water from rain and irrigation is more prone to travel along the surface of the stick, leading to misleadingly high measurements.\\n\\nTDT Technology\\nMeasure accurately\\nTDT technology is along with TDR the only sensor technology that provides trustworthy measurements for irrigation scheduling. Trust science, not marketing. Our soil sensor delivers an unprecedented accuracy across soil types at an affordable cost. We take great pride in having scientific backing for our claims, and we are happy to provide you with the material.\\nAccuracy is not only about the variability in a laboratory setting. It is more so about how reliable the measurements are across different settings and environmental factors such as soil types, variations in EC, and soil compaction. Most other solutions rely on capacitive sensors that have proven unfit for this purpose.\\n\\nApproved by science, Trust your measurements.\\nWe only claim what research supports. At your request, we are happy to provide you with scientific validation of our claims.\\nIf you are considering an alternative solution, we will gladly help you compare it to ours based on scientific literature\\nUse the TDT technologyWhy is TDT a superior sensing technology? One of the reasons is measurement frequency.\\nSoil moisture sensors estimate water indirectly from the permittivity of the soil. The problem is that at the low operating frequency of capacitive sensors, the permittivity is not linear in all soil types. As a consequence you will experience moisture variations not because of water changes, but because of soil variations.\\nOur sensors perform accurately across any soil type since they operate at 150-300 MHz.document_name: wireless_page\\ncontent: Reliable, wireless system\\nA robust system of dataloggers and gateways tailored to your needs to ensure ease of installation and reliable data transfer under any conditions. Without maintenance.\\n\\nReliable infrastructure. Easy to set up.Our devices are built for the future, using the latest technological advancements in low-power electronics. Not only is our system robust, but it is also easy to install. Simply add the sensors during installation via our app and we will ensure to notify you if anything requires your attention.\\n\\nProved in 8 countries on 3 continents\\nFrom a Peruvian desert to a Swedish winter. Our system is currently being used by farmers in Denmark, Germany, Sweden, Lithuania, Kenya, and Peru.\\n\\nOff-grid capability\\nThe SoilSense gateway can be powered by solar panels and the dataloggers simply run on standard AA batteries for years to come\\n\\nLoRa wireless\\nLong range low power technology coupled with high gain antennas provide excellent coverage even in dense plantations, and metal greenhouses\\n\\nEasy set up\\nSimply add the dataloggers via our app and have data flowing via our gateway in the matter of minutes\\n\\nMaintainence free\\nOur equipment is designed to endure the outdoors, all you have to do, is replace the standard AA batteries in the dataloggers every third year.\\n\\nData 24/7\\nAs a standard, our system automatically logs data every 20 minutes (adjustable) to ensure that measurements are always up-to-date\\n\\nFree support\\nIf technical issues should arise, our engineers are always available to assist immediately and at no cost via phone\\n\\nSoil moisture sensor system\\nFor complete technical specifications request the datasheets of our products below:\\n\\nDatalogger\\nLoRa wireless technology\\nUp to 4 sensors per datalogger\\nSDI-12, analog input and 2-wire sensor support\\n2 years battery life on two regular AA batteries\\nEasy to replace batteries\\nMagnetic reset\\nLED indicator for status\\n\\nGateway\\nLoRa wireless technology\\nHigh gain external antennas (Optional)\\nGSM/2G connectivity (M2M SIM included)\\nLiFePO4 batteries for extreme temperatures\\nSolar powered (optional) or regular 230V plug\\nMagnetic reset\\n\\nSensor SMT100\\nVolumetric Water Content accuracy: ± 1%\\nVolumetric Water Content resolution: 0.1%\\nVolumetric Water Content range: 0 to 60% (up to 100% with limited accuracy)\\nTemperature accuracy: ± 0.2°C\\nTemperature resolution: 0.01°C\\nDimensions: 18.2 cm x 3 cm x 1.2 cmdocument_name: landing_page\\ncontent: Take the guesswork out of irrigation\\nWe offer a simple, robust and affordable soil sensor system to help orchard managers, greenhouse growers and high-value field crop farmers manage and optimize irrigation\\n\\nSave water\\nAvoid over-irrigation and irrigate only when necessary\\n\\nIncrease yield\\nIrrigate correctly throughout the varied phenological stages of your crops\\n\\nReduce risk\\nGet notified immediately if the soil is getting too dry or an over-irrigation occurres\\n\\nSave time\\nSave time on inspecting the soil manually with a system that requires no maintenance\\n\\nListen to our customers\\nJesper, Operational Manager at Markhaven\\nMarkhaven is a large supplier of organic tomatoes and cucumbers. In 2020 they decided to switch their previous soil sensor system to SoilSense, because it was more reliable and easier to use.\\n\\nOle, Operational Manager at Ørskov Foods\\nØrskov Foods is Denmark's largest producer of apples. They are using SoilSense to control the growth of their trees in order to increase yield and optimize water usage.\\n\\nThe best on the market\\nThe best soil moisture sensors, thoroughly tested wireless infrastructure, automatic data analysis, and an easy to use software platform\\n\\nReal insights, automatic data analysis\\nObtaining soil data is only half of the solution. If you need to spend hours analyzing graphs to make a decision, the system will not be used. That´s why we focus on providing simple insights based on our unique automatic data analysis\\n\\nBest sensors, scientifically proven\\nTrustworthy data is the foundation for any decision support tool. That's why we use high accuracy TDT sensors. Unlike most existing solutions, we don't claim something we can't back up with scientific evidence\\n\\nRobust Hardware, From desert to snow\\nOur dataloggers and gateway units are developed in Denmark with reliability in mind. The product is currently in use in extreme environments: from the Peruvian dessert to a snowy and cold winter in Scandinavia\\n\\nAvoiding plant stress\\nOur accurate soil-moisture sensors make sure that you will be warned before the soil gets too dry and starts limiting growth.\\n\\nSaving water\\nAs the first system in the world, our algorithms automatically detect field capacity and warn you if you over-irrigate.\\n\\nEasy-to-use software\\nOur software deliver actionable insights rather than raw data. Your data can be accessed any time via mobile or computer.\\n\\nOverview of irrigation\\nOverview of monthly irrigation events ensure that your irrigation system operate as intended\\n\\nWhatsApp, text and email notifications\\nSet alarms with a single click and receive notifications on WhatsApp, text or email when critical thresholds are reached.\\n\\nAir temperature (beta feature)\\nWith measurements of air-temperature you can set up frost-alarms for your farm and understand the micro climate better.\\n\\nWireless LoRa system\\nBy using the newest LoRa wireless technology, we are achieving industry best wireless range even in plantations.\\n\\nMinimal maintainence\\nOur sensors can be left in the soil for 10 years, and the replaceable AA batteries in the datalogger lasts for 2 years.\\n\\nSoilSense Online DashboardAccess your data from any phone, tablet or computer and get a real-time overview 24/7\\nGet a quick overviewObtain an overview of the water requirements while on the go and dive into the details with a single click. Set alarms and receive notifications directly on your phone via Whatsapp or SMS if critical parameters reach the thresholds you setUnderstand the detailsOur intuitive interface makes it easy to navigate and unfold the details of your soil in order to examine the relationship between temperature, moisture and plant growth - so that you can take better decision when planning irrigation\""
      ]
     },
     "execution_count": 50,
     "metadata": {},
     "output_type": "execute_result"
    }
   ],
   "source": [
    "qdocs"
   ]
  },
  {
   "cell_type": "code",
   "execution_count": 53,
   "id": "14682d95",
   "metadata": {
    "height": 64
   },
   "outputs": [],
   "source": [
    "response = llm.call_as_llm(f\"{qdocs} Question: At what frequency does the sensors operate?\") \n"
   ]
  },
  {
   "cell_type": "code",
   "execution_count": 54,
   "id": "8bba545b",
   "metadata": {
    "height": 30
   },
   "outputs": [
    {
     "data": {
      "text/markdown": [
       "The frequency at which the sensors operate is not specified in the given content."
      ],
      "text/plain": [
       "<IPython.core.display.Markdown object>"
      ]
     },
     "metadata": {},
     "output_type": "display_data"
    }
   ],
   "source": [
    "display(Markdown(response))"
   ]
  },
  {
   "cell_type": "markdown",
   "id": "a334a6c8",
   "metadata": {},
   "source": [
    "Apparently the LLM failed to answer as it did not couple frequency with Mhz."
   ]
  },
  {
   "cell_type": "code",
   "execution_count": 55,
   "id": "9aa28387",
   "metadata": {},
   "outputs": [
    {
     "data": {
      "text/markdown": [
       "The sensors operate at a frequency of 150-300 MHz."
      ],
      "text/plain": [
       "<IPython.core.display.Markdown object>"
      ]
     },
     "metadata": {},
     "output_type": "display_data"
    }
   ],
   "source": [
    "response = llm.call_as_llm(f\"{qdocs} Question: At what frequency (Mhz) does the sensors operate?\") \n",
    "display(Markdown(response))"
   ]
  },
  {
   "cell_type": "markdown",
   "id": "d22dab9e",
   "metadata": {},
   "source": [
    "## Using LangChain (advanced and 1-liner)\n",
    "Define llm=llm to receive a language response \n",
    "Set chain_type=\"stuff\" which is the most simple, where all the documents are stuffed into context\n",
    "retriever: The interface for fetching documents and fetching to the model\n",
    "\n",
    "**More advanced method**"
   ]
  },
  {
   "cell_type": "code",
   "execution_count": 56,
   "id": "32c94d22",
   "metadata": {
    "height": 115
   },
   "outputs": [],
   "source": [
    "qa_stuff = RetrievalQA.from_chain_type(\n",
    "    llm=llm, \n",
    "    chain_type=\"stuff\", \n",
    "    retriever=retriever, \n",
    "    verbose=True\n",
    ")"
   ]
  },
  {
   "cell_type": "code",
   "execution_count": 57,
   "id": "e4769316",
   "metadata": {
    "height": 47
   },
   "outputs": [],
   "source": [
    "query =  \"Question: At what frequency (Mhz) does the sensors operate?\""
   ]
  },
  {
   "cell_type": "code",
   "execution_count": 58,
   "id": "1fc3c2f3",
   "metadata": {
    "height": 30
   },
   "outputs": [
    {
     "name": "stdout",
     "output_type": "stream",
     "text": [
      "\n",
      "\n",
      "\u001b[1m> Entering new RetrievalQA chain...\u001b[0m\n",
      "\n",
      "\u001b[1m> Finished chain.\u001b[0m\n"
     ]
    }
   ],
   "source": [
    "response = qa_stuff.run(query)"
   ]
  },
  {
   "cell_type": "code",
   "execution_count": 59,
   "id": "fba1a5db",
   "metadata": {
    "height": 30
   },
   "outputs": [
    {
     "data": {
      "text/markdown": [
       "The sensors operate at a frequency of 150-300 MHz."
      ],
      "text/plain": [
       "<IPython.core.display.Markdown object>"
      ]
     },
     "metadata": {},
     "output_type": "display_data"
    }
   ],
   "source": [
    "display(Markdown(response))"
   ]
  },
  {
   "cell_type": "markdown",
   "id": "704636d5",
   "metadata": {},
   "source": [
    "**Simple form**"
   ]
  },
  {
   "cell_type": "code",
   "execution_count": 64,
   "id": "19fb5faa",
   "metadata": {},
   "outputs": [],
   "source": [
    "index = VectorstoreIndexCreator(\n",
    "    vectorstore_cls=DocArrayInMemorySearch\n",
    ").from_loaders([loader])"
   ]
  },
  {
   "cell_type": "code",
   "execution_count": 65,
   "id": "500ec062",
   "metadata": {
    "height": 30
   },
   "outputs": [],
   "source": [
    "response = index.query(query, llm=llm)"
   ]
  },
  {
   "cell_type": "code",
   "execution_count": 66,
   "id": "97233998",
   "metadata": {},
   "outputs": [
    {
     "data": {
      "text/markdown": [
       "The sensors operate at a frequency of 150-300 MHz."
      ],
      "text/plain": [
       "<IPython.core.display.Markdown object>"
      ]
     },
     "metadata": {},
     "output_type": "display_data"
    }
   ],
   "source": [
    "display(Markdown(response))"
   ]
  },
  {
   "cell_type": "markdown",
   "id": "65df6f75",
   "metadata": {},
   "source": [
    "## Custom Vectorstore (Index)\n",
    "It is possible to customize the index when creating, such as specifying the embedding, or swap out the vectorstore. "
   ]
  },
  {
   "cell_type": "code",
   "execution_count": 61,
   "id": "2cffb19f",
   "metadata": {
    "height": 81
   },
   "outputs": [],
   "source": [
    "index = VectorstoreIndexCreator(\n",
    "    vectorstore_cls=DocArrayInMemorySearch,\n",
    "    embedding=embeddings,\n",
    ").from_loaders([loader])"
   ]
  },
  {
   "cell_type": "code",
   "execution_count": null,
   "id": "a9b58916",
   "metadata": {
    "height": 30
   },
   "outputs": [],
   "source": []
  },
  {
   "cell_type": "code",
   "execution_count": null,
   "id": "d590b337",
   "metadata": {
    "height": 30
   },
   "outputs": [],
   "source": []
  },
  {
   "cell_type": "code",
   "execution_count": null,
   "id": "b2cb587c",
   "metadata": {
    "height": 30
   },
   "outputs": [],
   "source": []
  },
  {
   "cell_type": "code",
   "execution_count": null,
   "id": "1ec249f1",
   "metadata": {
    "height": 30
   },
   "outputs": [],
   "source": []
  },
  {
   "cell_type": "code",
   "execution_count": null,
   "id": "9d64f166",
   "metadata": {
    "height": 30
   },
   "outputs": [],
   "source": []
  },
  {
   "cell_type": "code",
   "execution_count": null,
   "id": "21322e7e",
   "metadata": {
    "height": 30
   },
   "outputs": [],
   "source": []
  }
 ],
 "metadata": {
  "kernelspec": {
   "display_name": "Python 3 (ipykernel)",
   "language": "python",
   "name": "python3"
  },
  "language_info": {
   "codemirror_mode": {
    "name": "ipython",
    "version": 3
   },
   "file_extension": ".py",
   "mimetype": "text/x-python",
   "name": "python",
   "nbconvert_exporter": "python",
   "pygments_lexer": "ipython3",
   "version": "3.11.4"
  }
 },
 "nbformat": 4,
 "nbformat_minor": 5
}
