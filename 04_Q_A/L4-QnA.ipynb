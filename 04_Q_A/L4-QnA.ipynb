{
 "cells": [
  {
   "cell_type": "markdown",
   "id": "52824b89-532a-4e54-87e9-1410813cd39e",
   "metadata": {},
   "source": [
    "# LangChain: Q&A over Documents\n",
    "\n",
    "An example might be a tool that would allow you to query a product catalog for items of interest."
   ]
  },
  {
   "cell_type": "code",
   "execution_count": null,
   "id": "10c1f7b9",
   "metadata": {
    "height": 30
   },
   "outputs": [],
   "source": [
    "#pip install --upgrade langchain"
   ]
  },
  {
   "cell_type": "code",
   "execution_count": 1,
   "id": "b7ed03ed-1322-49e3-b2a2-33e94fb592ef",
   "metadata": {
    "height": 81,
    "tags": []
   },
   "outputs": [],
   "source": [
    "import os\n",
    "import openai\n",
    "\n",
    "#from dotenv import load_dotenv, find_dotenv\n",
    "#_ = load_dotenv(find_dotenv()) # read local .env file\n",
    "\n",
    "#openai.api_key = os.environ['OPENAI_API_KEY']"
   ]
  },
  {
   "cell_type": "markdown",
   "id": "7be57c2b",
   "metadata": {},
   "source": [
    "## Search example using VectorStoreIndex"
   ]
  },
  {
   "cell_type": "code",
   "execution_count": 2,
   "id": "974acf8e-8f88-42de-88f8-40a82cb58e8b",
   "metadata": {
    "height": 98
   },
   "outputs": [],
   "source": [
    "from langchain.chains import RetrievalQA\n",
    "from langchain.chat_models import ChatOpenAI\n",
    "from langchain.document_loaders import CSVLoader\n",
    "from langchain.vectorstores import DocArrayInMemorySearch\n",
    "from IPython.display import display, Markdown"
   ]
  },
  {
   "cell_type": "code",
   "execution_count": 3,
   "id": "3693e2ef",
   "metadata": {},
   "outputs": [],
   "source": [
    "#Import loader for txt file\n",
    "from langchain.document_loaders import TextLoader"
   ]
  },
  {
   "cell_type": "code",
   "execution_count": 4,
   "id": "7249846e",
   "metadata": {
    "height": 47
   },
   "outputs": [],
   "source": [
    "file = 'landing_page.txt'\n",
    "loader = TextLoader(file_path=file)\n",
    "document = loader.load()"
   ]
  },
  {
   "cell_type": "code",
   "execution_count": 5,
   "id": "5bfaba30",
   "metadata": {
    "height": 30
   },
   "outputs": [],
   "source": [
    "from langchain.indexes import VectorstoreIndexCreator"
   ]
  },
  {
   "cell_type": "code",
   "execution_count": 6,
   "id": "9b5ab657",
   "metadata": {
    "height": 30
   },
   "outputs": [],
   "source": [
    "#pip install docarray"
   ]
  },
  {
   "cell_type": "code",
   "execution_count": 8,
   "id": "9e200726",
   "metadata": {
    "height": 64
   },
   "outputs": [],
   "source": [
    "index = VectorstoreIndexCreator(\n",
    "    vectorstore_cls=DocArrayInMemorySearch\n",
    ").from_loaders([loader])"
   ]
  },
  {
   "cell_type": "code",
   "execution_count": 9,
   "id": "34562d81",
   "metadata": {
    "height": 47
   },
   "outputs": [],
   "source": [
    "query =\"Please list the 4 primary benefits of using SoilSense\""
   ]
  },
  {
   "cell_type": "code",
   "execution_count": 10,
   "id": "cfd0cc37",
   "metadata": {
    "height": 30
   },
   "outputs": [],
   "source": [
    "response = index.query(query)"
   ]
  },
  {
   "cell_type": "code",
   "execution_count": 12,
   "id": "ae21f1ff",
   "metadata": {
    "height": 30,
    "scrolled": true
   },
   "outputs": [
    {
     "data": {
      "text/markdown": [
       " 1. Save water 2. Increase yield 3. Reduce risk 4. Save time"
      ],
      "text/plain": [
       "<IPython.core.display.Markdown object>"
      ]
     },
     "metadata": {},
     "output_type": "display_data"
    }
   ],
   "source": [
    "display(Markdown(response))"
   ]
  },
  {
   "cell_type": "code",
   "execution_count": 13,
   "id": "e3827daf",
   "metadata": {},
   "outputs": [],
   "source": [
    "query =\"What makes SoilSense different from competing products?\"\n",
    "response = index.query(query)"
   ]
  },
  {
   "cell_type": "code",
   "execution_count": 14,
   "id": "2def24f0",
   "metadata": {},
   "outputs": [
    {
     "data": {
      "text/markdown": [
       " SoilSense offers a reliable and easy-to-use soil sensor system with high accuracy TDT sensors, automatic data analysis, and an intuitive software platform. It also provides notifications via WhatsApp, text, or email when critical thresholds are reached, and it can be used in extreme environments from the Peruvian dessert to a snowy and cold winter in Scandinavia."
      ],
      "text/plain": [
       "<IPython.core.display.Markdown object>"
      ]
     },
     "metadata": {},
     "output_type": "display_data"
    }
   ],
   "source": [
    "display(Markdown(response))"
   ]
  },
  {
   "cell_type": "code",
   "execution_count": 67,
   "id": "fc538b31",
   "metadata": {},
   "outputs": [],
   "source": [
    "query =\"I think SoilScout is a better product than SoilSense, what do you think?\"\n",
    "response = index.query(query)"
   ]
  },
  {
   "cell_type": "code",
   "execution_count": 68,
   "id": "38972bb8",
   "metadata": {},
   "outputs": [
    {
     "data": {
      "text/markdown": [
       " I'm sorry, I don't know enough about SoilScout to make a comparison."
      ],
      "text/plain": [
       "<IPython.core.display.Markdown object>"
      ]
     },
     "metadata": {},
     "output_type": "display_data"
    }
   ],
   "source": [
    "display(Markdown(response))"
   ]
  },
  {
   "cell_type": "markdown",
   "id": "ba8e3f48",
   "metadata": {},
   "source": [
    "# Building a Q&A system \"from scratch\"\n",
    "### Loading the text"
   ]
  },
  {
   "cell_type": "markdown",
   "id": "fd073cb0",
   "metadata": {},
   "source": [
    "Trying to work with a CSV file combining several SoilSense Sources (txt files) into a CSV file with 3 seperate documents"
   ]
  },
  {
   "cell_type": "code",
   "execution_count": 106,
   "id": "ef83431d",
   "metadata": {},
   "outputs": [
    {
     "data": {
      "text/plain": [
       "\"\\nfile_names = ['landing_page.txt', 'sensor_page.txt', 'wireless_page.txt']\\n\\nwith open('soilsense_info.csv', 'w', newline='') as csv_file:\\n    writer = csv.writer(csv_file)\\n\\n    # Write the header row, per default Langchain expect a CSV to have a header row to index it correctly\\n    writer.writerow(['document_name', 'content'])\\n\\n    for file_name in file_names:\\n        document_name = file_name.split('.')[0]  # Extract the name without extension\\n        with open(file_name, 'r') as txt_file:\\n            content = txt_file.read()\\n            # Write the document name and content as a row\\n            writer.writerow([document_name, content])\\n\\n\""
      ]
     },
     "execution_count": 106,
     "metadata": {},
     "output_type": "execute_result"
    }
   ],
   "source": [
    "# import txt and convert to CSV, only run once\n",
    "\n",
    "\"\"\"\n",
    "file_names = ['landing_page.txt', 'sensor_page.txt', 'wireless_page.txt']\n",
    "\n",
    "with open('soilsense_info.csv', 'w', newline='') as csv_file:\n",
    "    writer = csv.writer(csv_file)\n",
    "\n",
    "    # Write the header row, per default Langchain expect a CSV to have a header row to index it correctly\n",
    "    writer.writerow(['document_name', 'content'])\n",
    "\n",
    "    for file_name in file_names:\n",
    "        document_name = file_name.split('.')[0]  # Extract the name without extension\n",
    "        with open(file_name, 'r') as txt_file:\n",
    "            content = txt_file.read()\n",
    "            # Write the document name and content as a row\n",
    "            writer.writerow([document_name, content])\n",
    "\n",
    "\"\"\"      \n"
   ]
  },
  {
   "cell_type": "code",
   "execution_count": 107,
   "id": "631396c6",
   "metadata": {
    "height": 30
   },
   "outputs": [],
   "source": [
    "#CSV containing 3 seperate docs (pages from website)\n",
    "file = 'soilsense_info.csv'\n",
    "loader = CSVLoader(file_path=file)\n",
    "docs = loader.load()"
   ]
  },
  {
   "cell_type": "code",
   "execution_count": 72,
   "id": "4a977f44",
   "metadata": {
    "height": 30
   },
   "outputs": [
    {
     "data": {
      "text/plain": [
       "Document(page_content=\"document_name: sensor_page\\ncontent: Scientifically-validated sensors\\nAn irrigation support system is only as good as the measurements it depends on.\\nAccurate, reliable sensors are a must.\\n\\nBad data is worse than no data\\nThat's why we set the industry standard with the best, scientifically-validated sensor technology\\n\\nBuried sensors\\nMeasure the right thing\\nWe use buried soil sensors because they provide the most realistic measurement of actual soil conditions.\\nOur buried sensors provide the most correct measurement of the soil because they do not disturb water flow after installation. \\nDrill-and-drop probes might be easier to install, but if you can not trust the measurement, what good are they? Sensors of the probe design provoke what is called preferential flow where water from rain and irrigation is more prone to travel along the surface of the stick, leading to misleadingly high measurements.\\n\\nTDT Technology\\nMeasure accurately\\nTDT technology is along with TDR the only sensor technology that provides trustworthy measurements for irrigation scheduling. Trust science, not marketing. Our soil sensor delivers an unprecedented accuracy across soil types at an affordable cost. We take great pride in having scientific backing for our claims, and we are happy to provide you with the material.\\nAccuracy is not only about the variability in a laboratory setting. It is more so about how reliable the measurements are across different settings and environmental factors such as soil types, variations in EC, and soil compaction. Most other solutions rely on capacitive sensors that have proven unfit for this purpose.\\n\\nApproved by science, Trust your measurements.\\nWe only claim what research supports. At your request, we are happy to provide you with scientific validation of our claims.\\nIf you are considering an alternative solution, we will gladly help you compare it to ours based on scientific literature\\nUse the TDT technologyWhy is TDT a superior sensing technology? One of the reasons is measurement frequency.\\nSoil moisture sensors estimate water indirectly from the permittivity of the soil. The problem is that at the low operating frequency of capacitive sensors, the permittivity is not linear in all soil types. As a consequence you will experience moisture variations not because of water changes, but because of soil variations.\\nOur sensors perform accurately across any soil type since they operate at 150-300 MHz.\", metadata={'source': 'soilsense_info.csv', 'row': 1})"
      ]
     },
     "execution_count": 72,
     "metadata": {},
     "output_type": "execute_result"
    }
   ],
   "source": [
    "docs[1]"
   ]
  },
  {
   "cell_type": "markdown",
   "id": "66992e1f",
   "metadata": {},
   "source": [
    "### Creating embeddings\n",
    "Using the fastAI embeddings (max tok length ~ 2k)"
   ]
  },
  {
   "cell_type": "code",
   "execution_count": 73,
   "id": "e875693a",
   "metadata": {
    "height": 47
   },
   "outputs": [],
   "source": [
    "from langchain.embeddings import OpenAIEmbeddings\n",
    "embeddings = OpenAIEmbeddings()"
   ]
  },
  {
   "cell_type": "code",
   "execution_count": 74,
   "id": "779bec75",
   "metadata": {
    "height": 30
   },
   "outputs": [],
   "source": [
    "embed = embeddings.embed_query(\"Hi my name is Harrison\")"
   ]
  },
  {
   "cell_type": "code",
   "execution_count": 75,
   "id": "699aaaf9",
   "metadata": {
    "height": 30
   },
   "outputs": [
    {
     "name": "stdout",
     "output_type": "stream",
     "text": [
      "1536\n"
     ]
    }
   ],
   "source": [
    "print(len(embed))"
   ]
  },
  {
   "cell_type": "code",
   "execution_count": 76,
   "id": "9d00d346",
   "metadata": {
    "height": 30
   },
   "outputs": [
    {
     "name": "stdout",
     "output_type": "stream",
     "text": [
      "[-0.02191396093207838, 0.006774206755842608, -0.018190348816400977, -0.03914824936810449, -0.014089343366938916]\n"
     ]
    }
   ],
   "source": [
    "print(embed[:5])"
   ]
  },
  {
   "cell_type": "markdown",
   "id": "86109244",
   "metadata": {},
   "source": [
    "Create the database from the documents, and defining what embedding to use"
   ]
  },
  {
   "cell_type": "code",
   "execution_count": 77,
   "id": "27ad0bb0",
   "metadata": {
    "height": 81
   },
   "outputs": [],
   "source": [
    "db = DocArrayInMemorySearch.from_documents(\n",
    "    docs, \n",
    "    embeddings\n",
    ")"
   ]
  },
  {
   "cell_type": "code",
   "execution_count": 78,
   "id": "0329bfd5",
   "metadata": {
    "height": 30
   },
   "outputs": [],
   "source": [
    "query = \"At what frequency does the sensors operate?\""
   ]
  },
  {
   "cell_type": "markdown",
   "id": "1237169a",
   "metadata": {},
   "source": [
    "Apply the similiarty search on the db to return the k most similar documents to the query."
   ]
  },
  {
   "cell_type": "code",
   "execution_count": 87,
   "id": "7909c6b7",
   "metadata": {
    "height": 30
   },
   "outputs": [],
   "source": [
    "#K number of nearest neighbors to return, default is 4\n",
    "docs = db.similarity_search(query, k=2)"
   ]
  },
  {
   "cell_type": "code",
   "execution_count": 88,
   "id": "5995c24a",
   "metadata": {},
   "outputs": [
    {
     "data": {
      "text/plain": [
       "[Document(page_content=\"document_name: sensor_page\\ncontent: Scientifically-validated sensors\\nAn irrigation support system is only as good as the measurements it depends on.\\nAccurate, reliable sensors are a must.\\n\\nBad data is worse than no data\\nThat's why we set the industry standard with the best, scientifically-validated sensor technology\\n\\nBuried sensors\\nMeasure the right thing\\nWe use buried soil sensors because they provide the most realistic measurement of actual soil conditions.\\nOur buried sensors provide the most correct measurement of the soil because they do not disturb water flow after installation. \\nDrill-and-drop probes might be easier to install, but if you can not trust the measurement, what good are they? Sensors of the probe design provoke what is called preferential flow where water from rain and irrigation is more prone to travel along the surface of the stick, leading to misleadingly high measurements.\\n\\nTDT Technology\\nMeasure accurately\\nTDT technology is along with TDR the only sensor technology that provides trustworthy measurements for irrigation scheduling. Trust science, not marketing. Our soil sensor delivers an unprecedented accuracy across soil types at an affordable cost. We take great pride in having scientific backing for our claims, and we are happy to provide you with the material.\\nAccuracy is not only about the variability in a laboratory setting. It is more so about how reliable the measurements are across different settings and environmental factors such as soil types, variations in EC, and soil compaction. Most other solutions rely on capacitive sensors that have proven unfit for this purpose.\\n\\nApproved by science, Trust your measurements.\\nWe only claim what research supports. At your request, we are happy to provide you with scientific validation of our claims.\\nIf you are considering an alternative solution, we will gladly help you compare it to ours based on scientific literature\\nUse the TDT technologyWhy is TDT a superior sensing technology? One of the reasons is measurement frequency.\\nSoil moisture sensors estimate water indirectly from the permittivity of the soil. The problem is that at the low operating frequency of capacitive sensors, the permittivity is not linear in all soil types. As a consequence you will experience moisture variations not because of water changes, but because of soil variations.\\nOur sensors perform accurately across any soil type since they operate at 150-300 MHz.\", metadata={'source': 'soilsense_info.csv', 'row': 1}),\n",
       " Document(page_content='document_name: wireless_page\\ncontent: Reliable, wireless system\\nA robust system of dataloggers and gateways tailored to your needs to ensure ease of installation and reliable data transfer under any conditions. Without maintenance.\\n\\nReliable infrastructure. Easy to set up.Our devices are built for the future, using the latest technological advancements in low-power electronics. Not only is our system robust, but it is also easy to install. Simply add the sensors during installation via our app and we will ensure to notify you if anything requires your attention.\\n\\nProved in 8 countries on 3 continents\\nFrom a Peruvian desert to a Swedish winter. Our system is currently being used by farmers in Denmark, Germany, Sweden, Lithuania, Kenya, and Peru.\\n\\nOff-grid capability\\nThe SoilSense gateway can be powered by solar panels and the dataloggers simply run on standard AA batteries for years to come\\n\\nLoRa wireless\\nLong range low power technology coupled with high gain antennas provide excellent coverage even in dense plantations, and metal greenhouses\\n\\nEasy set up\\nSimply add the dataloggers via our app and have data flowing via our gateway in the matter of minutes\\n\\nMaintainence free\\nOur equipment is designed to endure the outdoors, all you have to do, is replace the standard AA batteries in the dataloggers every third year.\\n\\nData 24/7\\nAs a standard, our system automatically logs data every 20 minutes (adjustable) to ensure that measurements are always up-to-date\\n\\nFree support\\nIf technical issues should arise, our engineers are always available to assist immediately and at no cost via phone\\n\\nSoil moisture sensor system\\nFor complete technical specifications request the datasheets of our products below:\\n\\nDatalogger\\nLoRa wireless technology\\nUp to 4 sensors per datalogger\\nSDI-12, analog input and 2-wire sensor support\\n2 years battery life on two regular AA batteries\\nEasy to replace batteries\\nMagnetic reset\\nLED indicator for status\\n\\nGateway\\nLoRa wireless technology\\nHigh gain external antennas (Optional)\\nGSM/2G connectivity (M2M SIM included)\\nLiFePO4 batteries for extreme temperatures\\nSolar powered (optional) or regular 230V plug\\nMagnetic reset\\n\\nSensor SMT100\\nVolumetric Water Content accuracy: ± 1%\\nVolumetric Water Content resolution: 0.1%\\nVolumetric Water Content range: 0 to 60% (up to 100% with limited accuracy)\\nTemperature accuracy: ± 0.2°C\\nTemperature resolution: 0.01°C\\nDimensions: 18.2 cm x 3 cm x 1.2 cm', metadata={'source': 'soilsense_info.csv', 'row': 2})]"
      ]
     },
     "execution_count": 88,
     "metadata": {},
     "output_type": "execute_result"
    }
   ],
   "source": [
    "#Returns the k best matched documents (Although we only have 3 docs)\n",
    "list(docs)"
   ]
  },
  {
   "cell_type": "code",
   "execution_count": 89,
   "id": "105d2f8d",
   "metadata": {},
   "outputs": [],
   "source": [
    "#Also option to hav Cosine similary score included, lower is better\n",
    "docs = db.similarity_search_with_score(query)"
   ]
  },
  {
   "cell_type": "code",
   "execution_count": 90,
   "id": "43321853",
   "metadata": {
    "height": 30
   },
   "outputs": [
    {
     "data": {
      "text/plain": [
       "[(Document(page_content=\"document_name: sensor_page\\ncontent: Scientifically-validated sensors\\nAn irrigation support system is only as good as the measurements it depends on.\\nAccurate, reliable sensors are a must.\\n\\nBad data is worse than no data\\nThat's why we set the industry standard with the best, scientifically-validated sensor technology\\n\\nBuried sensors\\nMeasure the right thing\\nWe use buried soil sensors because they provide the most realistic measurement of actual soil conditions.\\nOur buried sensors provide the most correct measurement of the soil because they do not disturb water flow after installation. \\nDrill-and-drop probes might be easier to install, but if you can not trust the measurement, what good are they? Sensors of the probe design provoke what is called preferential flow where water from rain and irrigation is more prone to travel along the surface of the stick, leading to misleadingly high measurements.\\n\\nTDT Technology\\nMeasure accurately\\nTDT technology is along with TDR the only sensor technology that provides trustworthy measurements for irrigation scheduling. Trust science, not marketing. Our soil sensor delivers an unprecedented accuracy across soil types at an affordable cost. We take great pride in having scientific backing for our claims, and we are happy to provide you with the material.\\nAccuracy is not only about the variability in a laboratory setting. It is more so about how reliable the measurements are across different settings and environmental factors such as soil types, variations in EC, and soil compaction. Most other solutions rely on capacitive sensors that have proven unfit for this purpose.\\n\\nApproved by science, Trust your measurements.\\nWe only claim what research supports. At your request, we are happy to provide you with scientific validation of our claims.\\nIf you are considering an alternative solution, we will gladly help you compare it to ours based on scientific literature\\nUse the TDT technologyWhy is TDT a superior sensing technology? One of the reasons is measurement frequency.\\nSoil moisture sensors estimate water indirectly from the permittivity of the soil. The problem is that at the low operating frequency of capacitive sensors, the permittivity is not linear in all soil types. As a consequence you will experience moisture variations not because of water changes, but because of soil variations.\\nOur sensors perform accurately across any soil type since they operate at 150-300 MHz.\", metadata={'source': 'soilsense_info.csv', 'row': 1}),\n",
       "  0.7877369121068215),\n",
       " (Document(page_content='document_name: wireless_page\\ncontent: Reliable, wireless system\\nA robust system of dataloggers and gateways tailored to your needs to ensure ease of installation and reliable data transfer under any conditions. Without maintenance.\\n\\nReliable infrastructure. Easy to set up.Our devices are built for the future, using the latest technological advancements in low-power electronics. Not only is our system robust, but it is also easy to install. Simply add the sensors during installation via our app and we will ensure to notify you if anything requires your attention.\\n\\nProved in 8 countries on 3 continents\\nFrom a Peruvian desert to a Swedish winter. Our system is currently being used by farmers in Denmark, Germany, Sweden, Lithuania, Kenya, and Peru.\\n\\nOff-grid capability\\nThe SoilSense gateway can be powered by solar panels and the dataloggers simply run on standard AA batteries for years to come\\n\\nLoRa wireless\\nLong range low power technology coupled with high gain antennas provide excellent coverage even in dense plantations, and metal greenhouses\\n\\nEasy set up\\nSimply add the dataloggers via our app and have data flowing via our gateway in the matter of minutes\\n\\nMaintainence free\\nOur equipment is designed to endure the outdoors, all you have to do, is replace the standard AA batteries in the dataloggers every third year.\\n\\nData 24/7\\nAs a standard, our system automatically logs data every 20 minutes (adjustable) to ensure that measurements are always up-to-date\\n\\nFree support\\nIf technical issues should arise, our engineers are always available to assist immediately and at no cost via phone\\n\\nSoil moisture sensor system\\nFor complete technical specifications request the datasheets of our products below:\\n\\nDatalogger\\nLoRa wireless technology\\nUp to 4 sensors per datalogger\\nSDI-12, analog input and 2-wire sensor support\\n2 years battery life on two regular AA batteries\\nEasy to replace batteries\\nMagnetic reset\\nLED indicator for status\\n\\nGateway\\nLoRa wireless technology\\nHigh gain external antennas (Optional)\\nGSM/2G connectivity (M2M SIM included)\\nLiFePO4 batteries for extreme temperatures\\nSolar powered (optional) or regular 230V plug\\nMagnetic reset\\n\\nSensor SMT100\\nVolumetric Water Content accuracy: ± 1%\\nVolumetric Water Content resolution: 0.1%\\nVolumetric Water Content range: 0 to 60% (up to 100% with limited accuracy)\\nTemperature accuracy: ± 0.2°C\\nTemperature resolution: 0.01°C\\nDimensions: 18.2 cm x 3 cm x 1.2 cm', metadata={'source': 'soilsense_info.csv', 'row': 2}),\n",
       "  0.7829732467288538),\n",
       " (Document(page_content=\"document_name: landing_page\\ncontent: Take the guesswork out of irrigation\\nWe offer a simple, robust and affordable soil sensor system to help orchard managers, greenhouse growers and high-value field crop farmers manage and optimize irrigation\\n\\nSave water\\nAvoid over-irrigation and irrigate only when necessary\\n\\nIncrease yield\\nIrrigate correctly throughout the varied phenological stages of your crops\\n\\nReduce risk\\nGet notified immediately if the soil is getting too dry or an over-irrigation occurres\\n\\nSave time\\nSave time on inspecting the soil manually with a system that requires no maintenance\\n\\nListen to our customers\\nJesper, Operational Manager at Markhaven\\nMarkhaven is a large supplier of organic tomatoes and cucumbers. In 2020 they decided to switch their previous soil sensor system to SoilSense, because it was more reliable and easier to use.\\n\\nOle, Operational Manager at Ørskov Foods\\nØrskov Foods is Denmark's largest producer of apples. They are using SoilSense to control the growth of their trees in order to increase yield and optimize water usage.\\n\\nThe best on the market\\nThe best soil moisture sensors, thoroughly tested wireless infrastructure, automatic data analysis, and an easy to use software platform\\n\\nReal insights, automatic data analysis\\nObtaining soil data is only half of the solution. If you need to spend hours analyzing graphs to make a decision, the system will not be used. That´s why we focus on providing simple insights based on our unique automatic data analysis\\n\\nBest sensors, scientifically proven\\nTrustworthy data is the foundation for any decision support tool. That's why we use high accuracy TDT sensors. Unlike most existing solutions, we don't claim something we can't back up with scientific evidence\\n\\nRobust Hardware, From desert to snow\\nOur dataloggers and gateway units are developed in Denmark with reliability in mind. The product is currently in use in extreme environments: from the Peruvian dessert to a snowy and cold winter in Scandinavia\\n\\nAvoiding plant stress\\nOur accurate soil-moisture sensors make sure that you will be warned before the soil gets too dry and starts limiting growth.\\n\\nSaving water\\nAs the first system in the world, our algorithms automatically detect field capacity and warn you if you over-irrigate.\\n\\nEasy-to-use software\\nOur software deliver actionable insights rather than raw data. Your data can be accessed any time via mobile or computer.\\n\\nOverview of irrigation\\nOverview of monthly irrigation events ensure that your irrigation system operate as intended\\n\\nWhatsApp, text and email notifications\\nSet alarms with a single click and receive notifications on WhatsApp, text or email when critical thresholds are reached.\\n\\nAir temperature (beta feature)\\nWith measurements of air-temperature you can set up frost-alarms for your farm and understand the micro climate better.\\n\\nWireless LoRa system\\nBy using the newest LoRa wireless technology, we are achieving industry best wireless range even in plantations.\\n\\nMinimal maintainence\\nOur sensors can be left in the soil for 10 years, and the replaceable AA batteries in the datalogger lasts for 2 years.\\n\\nSoilSense Online DashboardAccess your data from any phone, tablet or computer and get a real-time overview 24/7\\nGet a quick overviewObtain an overview of the water requirements while on the go and dive into the details with a single click. Set alarms and receive notifications directly on your phone via Whatsapp or SMS if critical parameters reach the thresholds you setUnderstand the detailsOur intuitive interface makes it easy to navigate and unfold the details of your soil in order to examine the relationship between temperature, moisture and plant growth - so that you can take better decision when planning irrigation\", metadata={'source': 'soilsense_info.csv', 'row': 0}),\n",
       "  0.7753713454335948)]"
      ]
     },
     "execution_count": 90,
     "metadata": {},
     "output_type": "execute_result"
    }
   ],
   "source": [
    "#Returns the best matched documents (Although we only have 3 docs)\n",
    "list(docs)"
   ]
  },
  {
   "cell_type": "code",
   "execution_count": 91,
   "id": "8d497bf0",
   "metadata": {},
   "outputs": [
    {
     "data": {
      "text/plain": [
       "3"
      ]
     },
     "execution_count": 91,
     "metadata": {},
     "output_type": "execute_result"
    }
   ],
   "source": [
    "len(docs)"
   ]
  },
  {
   "cell_type": "code",
   "execution_count": 92,
   "id": "6eba90b5",
   "metadata": {
    "height": 30
   },
   "outputs": [
    {
     "data": {
      "text/plain": [
       "(Document(page_content=\"document_name: sensor_page\\ncontent: Scientifically-validated sensors\\nAn irrigation support system is only as good as the measurements it depends on.\\nAccurate, reliable sensors are a must.\\n\\nBad data is worse than no data\\nThat's why we set the industry standard with the best, scientifically-validated sensor technology\\n\\nBuried sensors\\nMeasure the right thing\\nWe use buried soil sensors because they provide the most realistic measurement of actual soil conditions.\\nOur buried sensors provide the most correct measurement of the soil because they do not disturb water flow after installation. \\nDrill-and-drop probes might be easier to install, but if you can not trust the measurement, what good are they? Sensors of the probe design provoke what is called preferential flow where water from rain and irrigation is more prone to travel along the surface of the stick, leading to misleadingly high measurements.\\n\\nTDT Technology\\nMeasure accurately\\nTDT technology is along with TDR the only sensor technology that provides trustworthy measurements for irrigation scheduling. Trust science, not marketing. Our soil sensor delivers an unprecedented accuracy across soil types at an affordable cost. We take great pride in having scientific backing for our claims, and we are happy to provide you with the material.\\nAccuracy is not only about the variability in a laboratory setting. It is more so about how reliable the measurements are across different settings and environmental factors such as soil types, variations in EC, and soil compaction. Most other solutions rely on capacitive sensors that have proven unfit for this purpose.\\n\\nApproved by science, Trust your measurements.\\nWe only claim what research supports. At your request, we are happy to provide you with scientific validation of our claims.\\nIf you are considering an alternative solution, we will gladly help you compare it to ours based on scientific literature\\nUse the TDT technologyWhy is TDT a superior sensing technology? One of the reasons is measurement frequency.\\nSoil moisture sensors estimate water indirectly from the permittivity of the soil. The problem is that at the low operating frequency of capacitive sensors, the permittivity is not linear in all soil types. As a consequence you will experience moisture variations not because of water changes, but because of soil variations.\\nOur sensors perform accurately across any soil type since they operate at 150-300 MHz.\", metadata={'source': 'soilsense_info.csv', 'row': 1}),\n",
       " 0.7877369121068215)"
      ]
     },
     "execution_count": 92,
     "metadata": {},
     "output_type": "execute_result"
    }
   ],
   "source": [
    "docs[0] #THe most similar doc based on our query"
   ]
  },
  {
   "cell_type": "markdown",
   "id": "97ce1047",
   "metadata": {},
   "source": [
    "### Splitting up text to smaller chunks of data (docs)\n",
    "The above query works with relatively large chucks of text, and will of course incur larger cost to call these to the LLM API. Alternatively, one could also use the CharacterTextSplitter to split the entire SoilSense document into even smaller parts."
   ]
  },
  {
   "cell_type": "code",
   "execution_count": 94,
   "id": "74bb5abe",
   "metadata": {},
   "outputs": [],
   "source": [
    "#import the langchain character splitter\n",
    "from langchain.text_splitter import CharacterTextSplitter"
   ]
  },
  {
   "cell_type": "code",
   "execution_count": 111,
   "id": "b2beb626",
   "metadata": {},
   "outputs": [
    {
     "name": "stderr",
     "output_type": "stream",
     "text": [
      "Created a chunk of size 626, which is longer than the specified 300\n",
      "Created a chunk of size 589, which is longer than the specified 300\n",
      "Created a chunk of size 719, which is longer than the specified 300\n",
      "Created a chunk of size 814, which is longer than the specified 300\n",
      "Created a chunk of size 335, which is longer than the specified 300\n"
     ]
    }
   ],
   "source": [
    "#txt file that contains the 3 pages combined\n",
    "file_txt = 'soilsense_info.txt'\n",
    "loader_txt = TextLoader(file_path=file_txt)\n",
    "document_txt = loader_txt.load()\n",
    "\n",
    "#Split the text into small docs (300 characters each)\n",
    "text_splitter = CharacterTextSplitter(chunk_size=300, chunk_overlap=40)\n",
    "\n",
    "#The default text_spliter also takes into account line changes etc., in order not to split in the midle of sentences,\n",
    "#hence it might produce chunks that are larger than the specified chunk_size\n",
    "docs_split = text_splitter.split_documents(document_txt)\n",
    "\n",
    "db_split = DocArrayInMemorySearch.from_documents(docs_split, embeddings)"
   ]
  },
  {
   "cell_type": "code",
   "execution_count": 112,
   "id": "01cb0629",
   "metadata": {},
   "outputs": [
    {
     "data": {
      "text/plain": [
       "29"
      ]
     },
     "execution_count": 112,
     "metadata": {},
     "output_type": "execute_result"
    }
   ],
   "source": [
    "len(docs_split)"
   ]
  },
  {
   "cell_type": "markdown",
   "id": "8aa6f151",
   "metadata": {},
   "source": [
    "We now have 29 seperate docs, instead of the original 3."
   ]
  },
  {
   "cell_type": "code",
   "execution_count": 119,
   "id": "94dedcb7",
   "metadata": {},
   "outputs": [],
   "source": [
    "docs_split = db_split.similarity_search(query, k=5, return_documents=True)"
   ]
  },
  {
   "cell_type": "code",
   "execution_count": 120,
   "id": "aae16118",
   "metadata": {},
   "outputs": [
    {
     "data": {
      "text/plain": [
       "[Document(page_content='Approved by science, Trust your measurements.\\nWe only claim what research supports. At your request, we are happy to provide you with scientific validation of our claims.\\nIf you are considering an alternative solution, we will gladly help you compare it to ours based on scientific literature\\nUse the TDT technologyWhy is TDT a superior sensing technology? One of the reasons is measurement frequency.\\nSoil moisture sensors estimate water indirectly from the permittivity of the soil. The problem is that at the low operating frequency of capacitive sensors, the permittivity is not linear in all soil types. As a consequence you will experience moisture variations not because of water changes, but because of soil variations.\\nOur sensors perform accurately across any soil type since they operate at 150-300 MHz.', metadata={'source': 'soilsense_info.txt'}),\n",
       " Document(page_content='Minimal maintainence\\nOur sensors can be left in the soil for 10 years, and the replaceable AA batteries in the datalogger lasts for 2 years.', metadata={'source': 'soilsense_info.txt'}),\n",
       " Document(page_content='Reliable infrastructure. Easy to set up.Our devices are built for the future, using the latest technological advancements in low-power electronics. Not only is our system robust, but it is also easy to install. Simply add the sensors during installation via our app and we will ensure to notify you if anything requires your attention.', metadata={'source': 'soilsense_info.txt'}),\n",
       " Document(page_content='Datalogger\\nLoRa wireless technology\\nUp to 4 sensors per datalogger\\nSDI-12, analog input and 2-wire sensor support\\n2 years battery life on two regular AA batteries\\nEasy to replace batteries\\nMagnetic reset\\nLED indicator for status', metadata={'source': 'soilsense_info.txt'}),\n",
       " Document(page_content='Data 24/7\\nAs a standard, our system automatically logs data every 20 minutes (adjustable) to ensure that measurements are always up-to-date\\n\\nFree support\\nIf technical issues should arise, our engineers are always available to assist immediately and at no cost via phone', metadata={'source': 'soilsense_info.txt'})]"
      ]
     },
     "execution_count": 120,
     "metadata": {},
     "output_type": "execute_result"
    }
   ],
   "source": [
    "docs_split"
   ]
  },
  {
   "cell_type": "markdown",
   "id": "15b3bb48",
   "metadata": {},
   "source": [
    "From manuallly inspecting the data, it can be seen that the word Frequency only occur in the one document that has the highest match, and that the information is only available in this paragraph. Therefore in this case, it would be as good and more efficient to have split the docs into smaller chucks."
   ]
  },
  {
   "cell_type": "markdown",
   "id": "e543edff",
   "metadata": {},
   "source": [
    "After which we could have the LLM search the returned query with a reponse"
   ]
  },
  {
   "cell_type": "markdown",
   "id": "3bd8e48d",
   "metadata": {},
   "source": [
    "### Coupling with the LLM for the QnA task"
   ]
  },
  {
   "cell_type": "markdown",
   "id": "36d2b4aa",
   "metadata": {},
   "source": [
    "Now we can combine the returned docs, and have the LLM search for the answer"
   ]
  },
  {
   "cell_type": "code",
   "execution_count": 121,
   "id": "a573f58a",
   "metadata": {
    "height": 47
   },
   "outputs": [],
   "source": [
    "qdocs = \"\".join([docs_split[i].page_content for i in range(len(docs_split))])"
   ]
  },
  {
   "cell_type": "code",
   "execution_count": 122,
   "id": "9d205ee0",
   "metadata": {},
   "outputs": [
    {
     "data": {
      "text/plain": [
       "'Approved by science, Trust your measurements.\\nWe only claim what research supports. At your request, we are happy to provide you with scientific validation of our claims.\\nIf you are considering an alternative solution, we will gladly help you compare it to ours based on scientific literature\\nUse the TDT technologyWhy is TDT a superior sensing technology? One of the reasons is measurement frequency.\\nSoil moisture sensors estimate water indirectly from the permittivity of the soil. The problem is that at the low operating frequency of capacitive sensors, the permittivity is not linear in all soil types. As a consequence you will experience moisture variations not because of water changes, but because of soil variations.\\nOur sensors perform accurately across any soil type since they operate at 150-300 MHz.Minimal maintainence\\nOur sensors can be left in the soil for 10 years, and the replaceable AA batteries in the datalogger lasts for 2 years.Reliable infrastructure. Easy to set up.Our devices are built for the future, using the latest technological advancements in low-power electronics. Not only is our system robust, but it is also easy to install. Simply add the sensors during installation via our app and we will ensure to notify you if anything requires your attention.Datalogger\\nLoRa wireless technology\\nUp to 4 sensors per datalogger\\nSDI-12, analog input and 2-wire sensor support\\n2 years battery life on two regular AA batteries\\nEasy to replace batteries\\nMagnetic reset\\nLED indicator for statusData 24/7\\nAs a standard, our system automatically logs data every 20 minutes (adjustable) to ensure that measurements are always up-to-date\\n\\nFree support\\nIf technical issues should arise, our engineers are always available to assist immediately and at no cost via phone'"
      ]
     },
     "execution_count": 122,
     "metadata": {},
     "output_type": "execute_result"
    }
   ],
   "source": [
    "qdocs"
   ]
  },
  {
   "cell_type": "code",
   "execution_count": 123,
   "id": "14682d95",
   "metadata": {
    "height": 64
   },
   "outputs": [],
   "source": [
    "response = llm.call_as_llm(f\"{qdocs} Question: At what frequency does the sensors operate?\") \n"
   ]
  },
  {
   "cell_type": "code",
   "execution_count": 124,
   "id": "8bba545b",
   "metadata": {
    "height": 30
   },
   "outputs": [
    {
     "data": {
      "text/markdown": [
       "The sensors operate at a frequency of 150-300 MHz."
      ],
      "text/plain": [
       "<IPython.core.display.Markdown object>"
      ]
     },
     "metadata": {},
     "output_type": "display_data"
    }
   ],
   "source": [
    "display(Markdown(response))"
   ]
  },
  {
   "cell_type": "markdown",
   "id": "a334a6c8",
   "metadata": {},
   "source": [
    "First time I ran the code and followed the tutorial, the qdocs was simply containing all the text, and in this LLM search the LLM actually failed to identify the correct answer unless queried more specifically. In this case it improved the performance by splitting up the docs to smaller sections, so that the context fed to the LLM was smaller but more relevant. \n",
    "\n",
    "1st time, the LLM failed to answer as it did not couple frequency with Mhz, and the below was nescesarry."
   ]
  },
  {
   "cell_type": "code",
   "execution_count": 125,
   "id": "9aa28387",
   "metadata": {},
   "outputs": [
    {
     "data": {
      "text/markdown": [
       "The sensors operate at a frequency range of 150-300 MHz."
      ],
      "text/plain": [
       "<IPython.core.display.Markdown object>"
      ]
     },
     "metadata": {},
     "output_type": "display_data"
    }
   ],
   "source": [
    "response = llm.call_as_llm(f\"{qdocs} Question: At what frequency (Mhz) does the sensors operate?\") \n",
    "display(Markdown(response))"
   ]
  },
  {
   "cell_type": "markdown",
   "id": "d22dab9e",
   "metadata": {},
   "source": [
    "# Alternatively: Using retriever chain\n",
    "Define llm=llm to receive a language response \n",
    "Set chain_type=\"stuff\" which is the most simple, where all the documents are stuffed into context\n",
    "retriever: The interface for fetching documents and fetching to the model\n",
    "\n",
    "**Using the retriever**\n",
    "RetrievalQA uses load_qa_chain under the hood, retrieve the most relevant chucks of text and feed these to the LLM"
   ]
  },
  {
   "cell_type": "code",
   "execution_count": 165,
   "id": "43cf55d6",
   "metadata": {},
   "outputs": [],
   "source": [
    "db = DocArrayInMemorySearch.from_documents(\n",
    "    docs_split, \n",
    "    embeddings\n",
    ")\n",
    "\n",
    "llm = ChatOpenAI(temperature = 0.0)"
   ]
  },
  {
   "cell_type": "code",
   "execution_count": 172,
   "id": "a274a792",
   "metadata": {},
   "outputs": [],
   "source": [
    "#Have the retriever find the 3 most similar docs\n",
    "retriever = db.as_retriever(search_type=\"similarity\", search_kwargs={\"k\":3})"
   ]
  },
  {
   "cell_type": "code",
   "execution_count": 173,
   "id": "32c94d22",
   "metadata": {
    "height": 115
   },
   "outputs": [],
   "source": [
    "qa_stuff = RetrievalQA.from_chain_type(\n",
    "    llm=llm, \n",
    "    chain_type=\"stuff\", \n",
    "    retriever=retriever, \n",
    "    return_source_documents=True,\n",
    "    verbose=True\n",
    ")"
   ]
  },
  {
   "cell_type": "code",
   "execution_count": 174,
   "id": "e4769316",
   "metadata": {
    "height": 47
   },
   "outputs": [],
   "source": [
    "query =  \"Question: At what frequency does the sensors operate?\""
   ]
  },
  {
   "cell_type": "code",
   "execution_count": 175,
   "id": "1fc3c2f3",
   "metadata": {
    "height": 30
   },
   "outputs": [
    {
     "name": "stdout",
     "output_type": "stream",
     "text": [
      "\n",
      "\n",
      "\u001b[1m> Entering new RetrievalQA chain...\u001b[0m\n",
      "\n",
      "\u001b[1m> Finished chain.\u001b[0m\n"
     ]
    }
   ],
   "source": [
    "response = qa_stuff({\"query\": query})"
   ]
  },
  {
   "cell_type": "code",
   "execution_count": 176,
   "id": "2ae7bac8",
   "metadata": {},
   "outputs": [
    {
     "data": {
      "text/plain": [
       "{'query': 'Question: At what frequency does the sensors operate?',\n",
       " 'result': 'The sensors operate at a frequency range of 150-300 MHz.',\n",
       " 'source_documents': [Document(page_content='Approved by science, Trust your measurements.\\nWe only claim what research supports. At your request, we are happy to provide you with scientific validation of our claims.\\nIf you are considering an alternative solution, we will gladly help you compare it to ours based on scientific literature\\nUse the TDT technologyWhy is TDT a superior sensing technology? One of the reasons is measurement frequency.\\nSoil moisture sensors estimate water indirectly from the permittivity of the soil. The problem is that at the low operating frequency of capacitive sensors, the permittivity is not linear in all soil types. As a consequence you will experience moisture variations not because of water changes, but because of soil variations.\\nOur sensors perform accurately across any soil type since they operate at 150-300 MHz.', metadata={'source': 'soilsense_info.txt'}),\n",
       "  Document(page_content='Minimal maintainence\\nOur sensors can be left in the soil for 10 years, and the replaceable AA batteries in the datalogger lasts for 2 years.', metadata={'source': 'soilsense_info.txt'}),\n",
       "  Document(page_content='Reliable infrastructure. Easy to set up.Our devices are built for the future, using the latest technological advancements in low-power electronics. Not only is our system robust, but it is also easy to install. Simply add the sensors during installation via our app and we will ensure to notify you if anything requires your attention.', metadata={'source': 'soilsense_info.txt'})]}"
      ]
     },
     "execution_count": 176,
     "metadata": {},
     "output_type": "execute_result"
    }
   ],
   "source": [
    "response"
   ]
  },
  {
   "cell_type": "code",
   "execution_count": 177,
   "id": "fba1a5db",
   "metadata": {
    "height": 30
   },
   "outputs": [
    {
     "data": {
      "text/markdown": [
       "The sensors operate at a frequency range of 150-300 MHz."
      ],
      "text/plain": [
       "<IPython.core.display.Markdown object>"
      ]
     },
     "metadata": {},
     "output_type": "display_data"
    }
   ],
   "source": [
    "display(Markdown(response['result']))"
   ]
  },
  {
   "cell_type": "markdown",
   "id": "704636d5",
   "metadata": {},
   "source": [
    "# Or, CreateVectorStore - high level API\n",
    "Basically a wrapper around the above to create an even simpler interface"
   ]
  },
  {
   "cell_type": "code",
   "execution_count": 141,
   "id": "1f3bd034",
   "metadata": {},
   "outputs": [],
   "source": [
    "file = 'soilsense_info.csv'\n",
    "loader = CSVLoader(file_path=file)\n",
    "docs = loader.load()"
   ]
  },
  {
   "cell_type": "code",
   "execution_count": 142,
   "id": "19fb5faa",
   "metadata": {},
   "outputs": [],
   "source": [
    "index = VectorstoreIndexCreator(\n",
    "    vectorstore_cls=DocArrayInMemorySearch\n",
    ").from_loaders([loader])"
   ]
  },
  {
   "cell_type": "code",
   "execution_count": 143,
   "id": "500ec062",
   "metadata": {
    "height": 30
   },
   "outputs": [],
   "source": [
    "response = index.query(query, llm=llm)"
   ]
  },
  {
   "cell_type": "code",
   "execution_count": 144,
   "id": "97233998",
   "metadata": {},
   "outputs": [
    {
     "data": {
      "text/markdown": [
       "The sensors operate at a frequency of 150-300 MHz."
      ],
      "text/plain": [
       "<IPython.core.display.Markdown object>"
      ]
     },
     "metadata": {},
     "output_type": "display_data"
    }
   ],
   "source": [
    "display(Markdown(response))"
   ]
  },
  {
   "cell_type": "markdown",
   "id": "65df6f75",
   "metadata": {},
   "source": [
    "## Tweak CreateVectorstore\n",
    "It is possible to customize the index when creating, such as specifying the embedding, swap out the vectorstore, or split documents in the process"
   ]
  },
  {
   "cell_type": "code",
   "execution_count": 178,
   "id": "4f930614",
   "metadata": {},
   "outputs": [],
   "source": [
    "file_txt = 'soilsense_info.txt'\n",
    "loader_txt = TextLoader(file_path=file_txt)"
   ]
  },
  {
   "cell_type": "code",
   "execution_count": 179,
   "id": "2cffb19f",
   "metadata": {
    "height": 81
   },
   "outputs": [
    {
     "name": "stderr",
     "output_type": "stream",
     "text": [
      "Created a chunk of size 626, which is longer than the specified 300\n",
      "Created a chunk of size 589, which is longer than the specified 300\n",
      "Created a chunk of size 719, which is longer than the specified 300\n",
      "Created a chunk of size 814, which is longer than the specified 300\n",
      "Created a chunk of size 335, which is longer than the specified 300\n"
     ]
    }
   ],
   "source": [
    "index = VectorstoreIndexCreator(\n",
    "    #Split the documents into chunks\n",
    "    text_splitter = CharacterTextSplitter(chunk_size=300, chunk_overlap=40),\n",
    "    vectorstore_cls=DocArrayInMemorySearch,\n",
    "    embedding=OpenAIEmbeddings(),\n",
    ").from_loaders([loader_txt])"
   ]
  },
  {
   "cell_type": "code",
   "execution_count": 180,
   "id": "a9b58916",
   "metadata": {
    "height": 30
   },
   "outputs": [
    {
     "data": {
      "text/plain": [
       "{'question': 'Question: At what frequency does the sensors operate?',\n",
       " 'answer': 'The sensors operate at a frequency of 150-300 MHz.\\n',\n",
       " 'sources': 'soilsense_info.txt'}"
      ]
     },
     "execution_count": 180,
     "metadata": {},
     "output_type": "execute_result"
    }
   ],
   "source": [
    "query =  \"Question: At what frequency does the sensors operate?\"\n",
    "index.query_with_sources(llm=llm, question=query, chain_type=\"stuff\")"
   ]
  },
  {
   "cell_type": "code",
   "execution_count": null,
   "id": "d590b337",
   "metadata": {
    "height": 30
   },
   "outputs": [],
   "source": []
  },
  {
   "cell_type": "code",
   "execution_count": null,
   "id": "b2cb587c",
   "metadata": {
    "height": 30
   },
   "outputs": [],
   "source": []
  },
  {
   "cell_type": "code",
   "execution_count": null,
   "id": "1ec249f1",
   "metadata": {
    "height": 30
   },
   "outputs": [],
   "source": []
  },
  {
   "cell_type": "code",
   "execution_count": null,
   "id": "9d64f166",
   "metadata": {
    "height": 30
   },
   "outputs": [],
   "source": []
  },
  {
   "cell_type": "code",
   "execution_count": null,
   "id": "21322e7e",
   "metadata": {
    "height": 30
   },
   "outputs": [],
   "source": []
  }
 ],
 "metadata": {
  "kernelspec": {
   "display_name": "Python 3 (ipykernel)",
   "language": "python",
   "name": "python3"
  },
  "language_info": {
   "codemirror_mode": {
    "name": "ipython",
    "version": 3
   },
   "file_extension": ".py",
   "mimetype": "text/x-python",
   "name": "python",
   "nbconvert_exporter": "python",
   "pygments_lexer": "ipython3",
   "version": "3.11.4"
  }
 },
 "nbformat": 4,
 "nbformat_minor": 5
}
