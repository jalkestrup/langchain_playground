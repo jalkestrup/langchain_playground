{
 "cells": [
  {
   "cell_type": "markdown",
   "id": "52824b89-532a-4e54-87e9-1410813cd39e",
   "metadata": {},
   "source": [
    "# LangChain: Evaluation\n",
    "\n",
    "## Outline:\n",
    "\n",
    "* Example generation\n",
    "* Manual evaluation (and debuging)\n",
    "* LLM-assisted evaluation\n",
    "* LangChain evaluation platform"
   ]
  },
  {
   "cell_type": "code",
   "execution_count": 1,
   "id": "b7ed03ed-1322-49e3-b2a2-33e94fb592ef",
   "metadata": {
    "height": 81,
    "tags": []
   },
   "outputs": [],
   "source": [
    "import os\n",
    "import openai\n",
    "\n",
    "#openai.api_key = os.environ['OPENAI_API_KEY']"
   ]
  },
  {
   "cell_type": "markdown",
   "id": "28008949",
   "metadata": {},
   "source": [
    "## Create our QandA application"
   ]
  },
  {
   "cell_type": "code",
   "execution_count": 2,
   "id": "974acf8e-8f88-42de-88f8-40a82cb58e8b",
   "metadata": {
    "height": 98
   },
   "outputs": [],
   "source": [
    "from langchain.chains import RetrievalQA\n",
    "from langchain.chat_models import ChatOpenAI\n",
    "from langchain.document_loaders import TextLoader\n",
    "from langchain.indexes import VectorstoreIndexCreator\n",
    "from langchain.vectorstores import DocArrayInMemorySearch\n",
    "from langchain.text_splitter import CharacterTextSplitter"
   ]
  },
  {
   "cell_type": "markdown",
   "id": "c015c1d9",
   "metadata": {},
   "source": [
    "## Load and split data"
   ]
  },
  {
   "cell_type": "code",
   "execution_count": 3,
   "id": "9ec1106d",
   "metadata": {
    "height": 64
   },
   "outputs": [
    {
     "name": "stderr",
     "output_type": "stream",
     "text": [
      "Created a chunk of size 626, which is longer than the specified 300\n",
      "Created a chunk of size 589, which is longer than the specified 300\n",
      "Created a chunk of size 719, which is longer than the specified 300\n",
      "Created a chunk of size 814, which is longer than the specified 300\n",
      "Created a chunk of size 335, which is longer than the specified 300\n"
     ]
    },
    {
     "name": "stdout",
     "output_type": "stream",
     "text": [
      "Number of chunks:  29\n",
      "First chunk:  page_content='Take the guesswork out of irrigation\\nWe offer a simple, robust and affordable soil sensor system to help orchard managers, greenhouse growers and high-value field crop farmers manage and optimize irrigation\\n\\nSave water\\nAvoid over-irrigation and irrigate only when necessary' metadata={'source': '../data/soilsense_info.txt'}\n"
     ]
    }
   ],
   "source": [
    "\n",
    "file = '../data/soilsense_info.txt'\n",
    "loader = TextLoader(file_path=file)\n",
    "data = loader.load()\n",
    "\n",
    "text_splitter = CharacterTextSplitter(chunk_size=300, chunk_overlap=40)\n",
    "#The default text_spliter also takes into account line changes etc., in order not to split in the midle of sentences,\n",
    "#hence it might produce chunks that are larger than the specified chunk_size\n",
    "data_split = text_splitter.split_documents(data)\n",
    "\n",
    "print('Number of chunks: ', len(data_split))\n",
    "print('First chunk: ', data_split[0])"
   ]
  },
  {
   "cell_type": "markdown",
   "id": "b2e57f16",
   "metadata": {},
   "source": [
    "## Create vectorstore\n",
    "Using openAI embeddings"
   ]
  },
  {
   "cell_type": "code",
   "execution_count": 4,
   "id": "cccbc0c3",
   "metadata": {},
   "outputs": [],
   "source": [
    "## Create vectorstore\n",
    "from langchain.embeddings import OpenAIEmbeddings\n",
    "embeddings = OpenAIEmbeddings()\n",
    "\n",
    "db = DocArrayInMemorySearch.from_documents(\n",
    "    data_split, \n",
    "    embeddings\n",
    ")"
   ]
  },
  {
   "cell_type": "markdown",
   "id": "10071deb",
   "metadata": {},
   "source": [
    "## Setting up Retriever and Q&A Chain"
   ]
  },
  {
   "cell_type": "code",
   "execution_count": 5,
   "id": "9254e0e6",
   "metadata": {},
   "outputs": [],
   "source": [
    "#Have the retriever find the 3 most similar docs\n",
    "retriever = db.as_retriever(search_type=\"similarity\", search_kwargs={\"k\":3})"
   ]
  },
  {
   "cell_type": "code",
   "execution_count": 44,
   "id": "a2006054",
   "metadata": {
    "height": 183
   },
   "outputs": [],
   "source": [
    "llm = ChatOpenAI(temperature = 0.0)\n",
    "qa = RetrievalQA.from_chain_type(\n",
    "    llm=llm, \n",
    "    chain_type=\"stuff\", \n",
    "    retriever=retriever, \n",
    "    verbose=True,\n",
    "    return_source_documents=True,\n",
    "    chain_type_kwargs = {\n",
    "        \"document_separator\": \"<<<<>>>>>\"\n",
    "    }\n",
    ")"
   ]
  },
  {
   "cell_type": "markdown",
   "id": "791ebd73",
   "metadata": {},
   "source": [
    "### Coming up with test datapoints\n",
    "Below we can inspect some of the documents, to come up with questions that match the given paraphrases."
   ]
  },
  {
   "cell_type": "code",
   "execution_count": 7,
   "id": "fb04a0f9",
   "metadata": {
    "height": 30
   },
   "outputs": [
    {
     "data": {
      "text/plain": [
       "Document(page_content=\"Ole, Operational Manager at Ørskov Foods\\nØrskov Foods is Denmark's largest producer of apples. They are using SoilSense to control the growth of their trees in order to increase yield and optimize water usage.\", metadata={'source': '../data/soilsense_info.txt'})"
      ]
     },
     "execution_count": 7,
     "metadata": {},
     "output_type": "execute_result"
    }
   ],
   "source": [
    "data_split[3]"
   ]
  },
  {
   "cell_type": "code",
   "execution_count": 8,
   "id": "fe4a88c2",
   "metadata": {
    "height": 30
   },
   "outputs": [
    {
     "data": {
      "text/plain": [
       "Document(page_content='Real insights, automatic data analysis\\nObtaining soil data is only half of the solution. If you need to spend hours analyzing graphs to make a decision, the system will not be used. That´s why we focus on providing simple insights based on our unique automatic data analysis', metadata={'source': '../data/soilsense_info.txt'})"
      ]
     },
     "execution_count": 8,
     "metadata": {},
     "output_type": "execute_result"
    }
   ],
   "source": [
    "data_split[5]"
   ]
  },
  {
   "cell_type": "markdown",
   "id": "8d548aef",
   "metadata": {},
   "source": [
    "### Hard-coded examples"
   ]
  },
  {
   "cell_type": "code",
   "execution_count": 59,
   "id": "c2d59bf2",
   "metadata": {
    "height": 217
   },
   "outputs": [],
   "source": [
    "examples = [\n",
    "    {\n",
    "        \"query\": \"Are there any apple orchards using your product?\",\n",
    "        \"answer\": \"Yes, Ørskov Food is for example a customer\"\n",
    "    },\n",
    "    {\n",
    "        \"query\": \"Does the system automatically conduct data analysis on the soil measurements?\",\n",
    "        \"answer\": \"Yes\"\n",
    "    }\n",
    "]"
   ]
  },
  {
   "cell_type": "markdown",
   "id": "c7ce3e4f",
   "metadata": {},
   "source": [
    "### LLM-Generated examples"
   ]
  },
  {
   "cell_type": "code",
   "execution_count": 39,
   "id": "d44f8376",
   "metadata": {
    "height": 47
   },
   "outputs": [],
   "source": [
    "from langchain.evaluation.qa import QAGenerateChain\n",
    "example_gen_chain = QAGenerateChain.from_llm(ChatOpenAI())\n"
   ]
  },
  {
   "cell_type": "code",
   "execution_count": 45,
   "id": "62abae09",
   "metadata": {
    "height": 64
   },
   "outputs": [],
   "source": [
    "import langchain\n",
    "langchain.debug = False\n",
    "\n",
    "new_examples = example_gen_chain.apply_and_parse(\n",
    "    [{\"doc\": t} for t in data_split[:5]]\n",
    ")"
   ]
  },
  {
   "cell_type": "markdown",
   "id": "5224b802",
   "metadata": {},
   "source": [
    "Let us inspect the source of data and one of the generated questions"
   ]
  },
  {
   "cell_type": "code",
   "execution_count": 53,
   "id": "97ab28b5",
   "metadata": {
    "height": 30
   },
   "outputs": [
    {
     "data": {
      "text/plain": [
       "{'qa_pairs': {'query': 'What does the soil sensor system offered by the company aim to help orchard managers, greenhouse growers, and high-value field crop farmers with?',\n",
       "  'answer': 'The soil sensor system offered by the company aims to help orchard managers, greenhouse growers, and high-value field crop farmers manage and optimize irrigation.'}}"
      ]
     },
     "execution_count": 53,
     "metadata": {},
     "output_type": "execute_result"
    }
   ],
   "source": [
    "new_examples[0]"
   ]
  },
  {
   "cell_type": "code",
   "execution_count": 54,
   "id": "0ebe4228",
   "metadata": {
    "height": 30
   },
   "outputs": [
    {
     "data": {
      "text/plain": [
       "Document(page_content='Take the guesswork out of irrigation\\nWe offer a simple, robust and affordable soil sensor system to help orchard managers, greenhouse growers and high-value field crop farmers manage and optimize irrigation\\n\\nSave water\\nAvoid over-irrigation and irrigate only when necessary', metadata={'source': '../data/soilsense_info.txt'})"
      ]
     },
     "execution_count": 54,
     "metadata": {},
     "output_type": "execute_result"
    }
   ],
   "source": [
    "data_split[0]"
   ]
  },
  {
   "cell_type": "markdown",
   "id": "1fa6d920",
   "metadata": {},
   "source": [
    "The question seems legit, but for some reason the  QAGenerateChain returns a nested dict with the top key \"qa_pairs\" , this is defined in the source code of langchain, but it does not apply in the online example.... ? In either case, it will lead the code to fail later on, because the auto eval function expects the query argument to be at top level"
   ]
  },
  {
   "cell_type": "code",
   "execution_count": 55,
   "id": "87c4efc3",
   "metadata": {},
   "outputs": [
    {
     "data": {
      "text/plain": [
       "{'query': 'What does the soil sensor system offered by the company aim to help orchard managers, greenhouse growers, and high-value field crop farmers with?',\n",
       " 'answer': 'The soil sensor system offered by the company aims to help orchard managers, greenhouse growers, and high-value field crop farmers manage and optimize irrigation.'}"
      ]
     },
     "execution_count": 55,
     "metadata": {},
     "output_type": "execute_result"
    }
   ],
   "source": [
    "new_examples[0]['qa_pairs']"
   ]
  },
  {
   "cell_type": "markdown",
   "id": "e8f437fa",
   "metadata": {},
   "source": [
    "\n",
    "**I therefore write a function to flatten the dict**"
   ]
  },
  {
   "cell_type": "code",
   "execution_count": 50,
   "id": "ffdedc38",
   "metadata": {},
   "outputs": [],
   "source": [
    "new_examples_flat = [{'query': item['qa_pairs']['query'], 'answer': item['qa_pairs']['answer']} for item in new_examples]\n"
   ]
  },
  {
   "cell_type": "code",
   "execution_count": 52,
   "id": "28ce7b24",
   "metadata": {},
   "outputs": [
    {
     "data": {
      "text/plain": [
       "{'query': 'What does the soil sensor system offered by the company aim to help orchard managers, greenhouse growers, and high-value field crop farmers with?',\n",
       " 'answer': 'The soil sensor system offered by the company aims to help orchard managers, greenhouse growers, and high-value field crop farmers manage and optimize irrigation.'}"
      ]
     },
     "execution_count": 52,
     "metadata": {},
     "output_type": "execute_result"
    }
   ],
   "source": [
    "new_examples_flat[0]"
   ]
  },
  {
   "cell_type": "markdown",
   "id": "faf25f2f",
   "metadata": {},
   "source": [
    "### Combine examples"
   ]
  },
  {
   "cell_type": "code",
   "execution_count": 60,
   "id": "ada2a3fc",
   "metadata": {
    "height": 30
   },
   "outputs": [],
   "source": [
    "examples += new_examples_flat"
   ]
  },
  {
   "cell_type": "markdown",
   "id": "5a8a305d",
   "metadata": {},
   "source": [
    "Insecting the now \"ground truth\" for a question and correct answer"
   ]
  },
  {
   "cell_type": "code",
   "execution_count": 62,
   "id": "cd3394a9",
   "metadata": {},
   "outputs": [
    {
     "data": {
      "text/plain": [
       "'Why did Markhaven switch from their previous soil sensor system to SoilSense?'"
      ]
     },
     "execution_count": 62,
     "metadata": {},
     "output_type": "execute_result"
    }
   ],
   "source": [
    "examples[4]['query']"
   ]
  },
  {
   "cell_type": "code",
   "execution_count": 63,
   "id": "22850942",
   "metadata": {},
   "outputs": [
    {
     "data": {
      "text/plain": [
       "'Markhaven switched from their previous soil sensor system to SoilSense because it was more reliable and easier to use.'"
      ]
     },
     "execution_count": 63,
     "metadata": {},
     "output_type": "execute_result"
    }
   ],
   "source": [
    "examples[4]['answer'] "
   ]
  },
  {
   "cell_type": "markdown",
   "id": "2135af6a",
   "metadata": {},
   "source": [
    "Testing out the LLM to see if it answers correctly:"
   ]
  },
  {
   "cell_type": "code",
   "execution_count": 66,
   "id": "9cdf5cf5",
   "metadata": {
    "height": 30
   },
   "outputs": [
    {
     "name": "stdout",
     "output_type": "stream",
     "text": [
      "\n",
      "\n",
      "\u001b[1m> Entering new RetrievalQA chain...\u001b[0m\n",
      "\n",
      "\u001b[1m> Finished chain.\u001b[0m\n"
     ]
    }
   ],
   "source": [
    "response = qa({\"query\": examples[4][\"query\"]})"
   ]
  },
  {
   "cell_type": "code",
   "execution_count": 67,
   "id": "18b57635",
   "metadata": {},
   "outputs": [
    {
     "data": {
      "text/plain": [
       "{'query': 'Why did Markhaven switch from their previous soil sensor system to SoilSense?',\n",
       " 'result': 'Markhaven switched from their previous soil sensor system to SoilSense because it was more reliable and easier to use.',\n",
       " 'source_documents': [Document(page_content='Listen to our customers\\nJesper, Operational Manager at Markhaven\\nMarkhaven is a large supplier of organic tomatoes and cucumbers. In 2020 they decided to switch their previous soil sensor system to SoilSense, because it was more reliable and easier to use.', metadata={'source': '../data/soilsense_info.txt'}),\n",
       "  Document(page_content='Avoiding plant stress\\nOur accurate soil-moisture sensors make sure that you will be warned before the soil gets too dry and starts limiting growth.\\n\\nSaving water\\nAs the first system in the world, our algorithms automatically detect field capacity and warn you if you over-irrigate.', metadata={'source': '../data/soilsense_info.txt'}),\n",
       "  Document(page_content='The best on the market\\nThe best soil moisture sensors, thoroughly tested wireless infrastructure, automatic data analysis, and an easy to use software platform', metadata={'source': '../data/soilsense_info.txt'})]}"
      ]
     },
     "execution_count": 67,
     "metadata": {},
     "output_type": "execute_result"
    }
   ],
   "source": [
    "response"
   ]
  },
  {
   "cell_type": "markdown",
   "id": "63f3cb08",
   "metadata": {},
   "source": [
    "## Manual Evaluation\n",
    "Use debug=True to get a detailed printout of what is happening in the chain"
   ]
  },
  {
   "cell_type": "code",
   "execution_count": 68,
   "id": "fcaf622e",
   "metadata": {
    "height": 47
   },
   "outputs": [],
   "source": [
    "import langchain\n",
    "langchain.debug = True"
   ]
  },
  {
   "cell_type": "code",
   "execution_count": 70,
   "id": "8a142638",
   "metadata": {
    "height": 30,
    "scrolled": false
   },
   "outputs": [
    {
     "name": "stdout",
     "output_type": "stream",
     "text": [
      "\u001b[32;1m\u001b[1;3m[chain/start]\u001b[0m \u001b[1m[1:chain:RetrievalQA] Entering Chain run with input:\n",
      "\u001b[0m{\n",
      "  \"query\": \"Why did Markhaven switch from their previous soil sensor system to SoilSense?\"\n",
      "}\n",
      "\u001b[32;1m\u001b[1;3m[chain/start]\u001b[0m \u001b[1m[1:chain:RetrievalQA > 3:chain:StuffDocumentsChain] Entering Chain run with input:\n",
      "\u001b[0m[inputs]\n",
      "\u001b[32;1m\u001b[1;3m[chain/start]\u001b[0m \u001b[1m[1:chain:RetrievalQA > 3:chain:StuffDocumentsChain > 4:chain:LLMChain] Entering Chain run with input:\n",
      "\u001b[0m{\n",
      "  \"question\": \"Why did Markhaven switch from their previous soil sensor system to SoilSense?\",\n",
      "  \"context\": \"Listen to our customers\\nJesper, Operational Manager at Markhaven\\nMarkhaven is a large supplier of organic tomatoes and cucumbers. In 2020 they decided to switch their previous soil sensor system to SoilSense, because it was more reliable and easier to use.<<<<>>>>>Avoiding plant stress\\nOur accurate soil-moisture sensors make sure that you will be warned before the soil gets too dry and starts limiting growth.\\n\\nSaving water\\nAs the first system in the world, our algorithms automatically detect field capacity and warn you if you over-irrigate.<<<<>>>>>The best on the market\\nThe best soil moisture sensors, thoroughly tested wireless infrastructure, automatic data analysis, and an easy to use software platform\"\n",
      "}\n",
      "\u001b[32;1m\u001b[1;3m[llm/start]\u001b[0m \u001b[1m[1:chain:RetrievalQA > 3:chain:StuffDocumentsChain > 4:chain:LLMChain > 5:llm:ChatOpenAI] Entering LLM run with input:\n",
      "\u001b[0m{\n",
      "  \"prompts\": [\n",
      "    \"System: Use the following pieces of context to answer the users question. \\nIf you don't know the answer, just say that you don't know, don't try to make up an answer.\\n----------------\\nListen to our customers\\nJesper, Operational Manager at Markhaven\\nMarkhaven is a large supplier of organic tomatoes and cucumbers. In 2020 they decided to switch their previous soil sensor system to SoilSense, because it was more reliable and easier to use.<<<<>>>>>Avoiding plant stress\\nOur accurate soil-moisture sensors make sure that you will be warned before the soil gets too dry and starts limiting growth.\\n\\nSaving water\\nAs the first system in the world, our algorithms automatically detect field capacity and warn you if you over-irrigate.<<<<>>>>>The best on the market\\nThe best soil moisture sensors, thoroughly tested wireless infrastructure, automatic data analysis, and an easy to use software platform\\nHuman: Why did Markhaven switch from their previous soil sensor system to SoilSense?\"\n",
      "  ]\n",
      "}\n",
      "\u001b[36;1m\u001b[1;3m[llm/end]\u001b[0m \u001b[1m[1:chain:RetrievalQA > 3:chain:StuffDocumentsChain > 4:chain:LLMChain > 5:llm:ChatOpenAI] [1.68s] Exiting LLM run with output:\n",
      "\u001b[0m{\n",
      "  \"generations\": [\n",
      "    [\n",
      "      {\n",
      "        \"text\": \"Markhaven switched from their previous soil sensor system to SoilSense because it was more reliable and easier to use.\",\n",
      "        \"generation_info\": {\n",
      "          \"finish_reason\": \"stop\"\n",
      "        },\n",
      "        \"message\": {\n",
      "          \"lc\": 1,\n",
      "          \"type\": \"constructor\",\n",
      "          \"id\": [\n",
      "            \"langchain\",\n",
      "            \"schema\",\n",
      "            \"messages\",\n",
      "            \"AIMessage\"\n",
      "          ],\n",
      "          \"kwargs\": {\n",
      "            \"content\": \"Markhaven switched from their previous soil sensor system to SoilSense because it was more reliable and easier to use.\",\n",
      "            \"additional_kwargs\": {}\n",
      "          }\n",
      "        }\n",
      "      }\n",
      "    ]\n",
      "  ],\n",
      "  \"llm_output\": {\n",
      "    \"token_usage\": {\n",
      "      \"prompt_tokens\": 214,\n",
      "      \"completion_tokens\": 22,\n",
      "      \"total_tokens\": 236\n",
      "    },\n",
      "    \"model_name\": \"gpt-3.5-turbo\"\n",
      "  },\n",
      "  \"run\": null\n",
      "}\n",
      "\u001b[36;1m\u001b[1;3m[chain/end]\u001b[0m \u001b[1m[1:chain:RetrievalQA > 3:chain:StuffDocumentsChain > 4:chain:LLMChain] [1.68s] Exiting Chain run with output:\n",
      "\u001b[0m{\n",
      "  \"text\": \"Markhaven switched from their previous soil sensor system to SoilSense because it was more reliable and easier to use.\"\n",
      "}\n",
      "\u001b[36;1m\u001b[1;3m[chain/end]\u001b[0m \u001b[1m[1:chain:RetrievalQA > 3:chain:StuffDocumentsChain] [1.68s] Exiting Chain run with output:\n",
      "\u001b[0m{\n",
      "  \"output_text\": \"Markhaven switched from their previous soil sensor system to SoilSense because it was more reliable and easier to use.\"\n",
      "}\n",
      "\u001b[36;1m\u001b[1;3m[chain/end]\u001b[0m \u001b[1m[1:chain:RetrievalQA] [2.23s] Exiting Chain run with output:\n",
      "\u001b[0m[outputs]\n"
     ]
    },
    {
     "data": {
      "text/plain": [
       "{'query': 'Why did Markhaven switch from their previous soil sensor system to SoilSense?',\n",
       " 'result': 'Markhaven switched from their previous soil sensor system to SoilSense because it was more reliable and easier to use.',\n",
       " 'source_documents': [Document(page_content='Listen to our customers\\nJesper, Operational Manager at Markhaven\\nMarkhaven is a large supplier of organic tomatoes and cucumbers. In 2020 they decided to switch their previous soil sensor system to SoilSense, because it was more reliable and easier to use.', metadata={'source': '../data/soilsense_info.txt'}),\n",
       "  Document(page_content='Avoiding plant stress\\nOur accurate soil-moisture sensors make sure that you will be warned before the soil gets too dry and starts limiting growth.\\n\\nSaving water\\nAs the first system in the world, our algorithms automatically detect field capacity and warn you if you over-irrigate.', metadata={'source': '../data/soilsense_info.txt'}),\n",
       "  Document(page_content='The best on the market\\nThe best soil moisture sensors, thoroughly tested wireless infrastructure, automatic data analysis, and an easy to use software platform', metadata={'source': '../data/soilsense_info.txt'})]}"
      ]
     },
     "execution_count": 70,
     "metadata": {},
     "output_type": "execute_result"
    }
   ],
   "source": [
    "qa({\"query\": examples[4][\"query\"]})"
   ]
  },
  {
   "cell_type": "code",
   "execution_count": 71,
   "id": "b3d6bef0",
   "metadata": {
    "height": 47
   },
   "outputs": [],
   "source": [
    "# Turn off the debug mode\n",
    "langchain.debug = False"
   ]
  },
  {
   "cell_type": "markdown",
   "id": "d5bdbdce",
   "metadata": {},
   "source": [
    "## LLM assisted evaluation"
   ]
  },
  {
   "cell_type": "code",
   "execution_count": 72,
   "id": "6233ea81",
   "metadata": {},
   "outputs": [
    {
     "data": {
      "text/plain": [
       "[{'query': 'Are there any apple orchards using your product?',\n",
       "  'answer': 'Yes, Ørskov Food is for example a customer'},\n",
       " {'query': 'Does the system automatically conduct data analysis on the soil measurements?',\n",
       "  'answer': 'Yes'},\n",
       " {'query': 'What does the soil sensor system offered by the company aim to help orchard managers, greenhouse growers, and high-value field crop farmers with?',\n",
       "  'answer': 'The soil sensor system offered by the company aims to help orchard managers, greenhouse growers, and high-value field crop farmers manage and optimize irrigation.'},\n",
       " {'query': 'What are the benefits of irrigating correctly throughout the varied phenological stages of crops?',\n",
       "  'answer': 'The benefits of irrigating correctly throughout the varied phenological stages of crops include increasing yield, reducing risk by getting notified immediately if the soil is getting too dry or an over-irrigation occurs, and saving time by eliminating the need for manual soil inspection.'},\n",
       " {'query': 'Why did Markhaven switch from their previous soil sensor system to SoilSense?',\n",
       "  'answer': 'Markhaven switched from their previous soil sensor system to SoilSense because it was more reliable and easier to use.'},\n",
       " {'query': 'Who is the Operational Manager at Ørskov Foods?',\n",
       "  'answer': 'Ole is the Operational Manager at Ørskov Foods.'},\n",
       " {'query': 'What are some features of the soil sensing system mentioned in the document?',\n",
       "  'answer': 'Some features of the soil sensing system mentioned in the document include the best soil moisture sensors, thoroughly tested wireless infrastructure, automatic data analysis, and an easy to use software platform.'}]"
      ]
     },
     "execution_count": 72,
     "metadata": {},
     "output_type": "execute_result"
    }
   ],
   "source": [
    "examples"
   ]
  },
  {
   "cell_type": "code",
   "execution_count": 73,
   "id": "a4dca05a",
   "metadata": {
    "height": 30
   },
   "outputs": [
    {
     "name": "stdout",
     "output_type": "stream",
     "text": [
      "\n",
      "\n",
      "\u001b[1m> Entering new RetrievalQA chain...\u001b[0m\n",
      "\n",
      "\u001b[1m> Finished chain.\u001b[0m\n",
      "\n",
      "\n",
      "\u001b[1m> Entering new RetrievalQA chain...\u001b[0m\n",
      "\n",
      "\u001b[1m> Finished chain.\u001b[0m\n",
      "\n",
      "\n",
      "\u001b[1m> Entering new RetrievalQA chain...\u001b[0m\n",
      "\n",
      "\u001b[1m> Finished chain.\u001b[0m\n",
      "\n",
      "\n",
      "\u001b[1m> Entering new RetrievalQA chain...\u001b[0m\n",
      "\n",
      "\u001b[1m> Finished chain.\u001b[0m\n",
      "\n",
      "\n",
      "\u001b[1m> Entering new RetrievalQA chain...\u001b[0m\n",
      "\n",
      "\u001b[1m> Finished chain.\u001b[0m\n",
      "\n",
      "\n",
      "\u001b[1m> Entering new RetrievalQA chain...\u001b[0m\n",
      "\n",
      "\u001b[1m> Finished chain.\u001b[0m\n",
      "\n",
      "\n",
      "\u001b[1m> Entering new RetrievalQA chain...\u001b[0m\n",
      "\n",
      "\u001b[1m> Finished chain.\u001b[0m\n"
     ]
    }
   ],
   "source": [
    "predictions = qa.apply(examples)"
   ]
  },
  {
   "cell_type": "code",
   "execution_count": 74,
   "id": "6012a3e0",
   "metadata": {
    "height": 30
   },
   "outputs": [],
   "source": [
    "from langchain.evaluation.qa import QAEvalChain"
   ]
  },
  {
   "cell_type": "code",
   "execution_count": 75,
   "id": "724b1c0b",
   "metadata": {
    "height": 47
   },
   "outputs": [],
   "source": [
    "llm = ChatOpenAI(temperature=0)\n",
    "eval_chain = QAEvalChain.from_llm(llm)"
   ]
  },
  {
   "cell_type": "code",
   "execution_count": 79,
   "id": "8b46ae55",
   "metadata": {
    "height": 30
   },
   "outputs": [],
   "source": [
    "graded_outputs = eval_chain.evaluate(examples, predictions)"
   ]
  },
  {
   "cell_type": "code",
   "execution_count": 80,
   "id": "e4d0979e",
   "metadata": {},
   "outputs": [
    {
     "data": {
      "text/plain": [
       "{'query': 'Are there any apple orchards using your product?',\n",
       " 'answer': 'Yes, Ørskov Food is for example a customer',\n",
       " 'result': \"Yes, Ørskov Foods, Denmark's largest producer of apples, is using SoilSense to control the growth of their apple trees and optimize water usage.\",\n",
       " 'source_documents': [Document(page_content=\"Ole, Operational Manager at Ørskov Foods\\nØrskov Foods is Denmark's largest producer of apples. They are using SoilSense to control the growth of their trees in order to increase yield and optimize water usage.\", metadata={'source': '../data/soilsense_info.txt'}),\n",
       "  Document(page_content='Proved in 8 countries on 3 continents\\nFrom a Peruvian desert to a Swedish winter. Our system is currently being used by farmers in Denmark, Germany, Sweden, Lithuania, Kenya, and Peru.', metadata={'source': '../data/soilsense_info.txt'}),\n",
       "  Document(page_content='Listen to our customers\\nJesper, Operational Manager at Markhaven\\nMarkhaven is a large supplier of organic tomatoes and cucumbers. In 2020 they decided to switch their previous soil sensor system to SoilSense, because it was more reliable and easier to use.', metadata={'source': '../data/soilsense_info.txt'})]}"
      ]
     },
     "execution_count": 80,
     "metadata": {},
     "output_type": "execute_result"
    }
   ],
   "source": [
    "predictions[0]"
   ]
  },
  {
   "cell_type": "code",
   "execution_count": 81,
   "id": "9175ba04",
   "metadata": {},
   "outputs": [
    {
     "data": {
      "text/plain": [
       "[{'results': 'CORRECT'},\n",
       " {'results': 'CORRECT'},\n",
       " {'results': 'CORRECT'},\n",
       " {'results': 'CORRECT'},\n",
       " {'results': 'CORRECT'},\n",
       " {'results': 'CORRECT'},\n",
       " {'results': 'CORRECT'}]"
      ]
     },
     "execution_count": 81,
     "metadata": {},
     "output_type": "execute_result"
    }
   ],
   "source": [
    "graded_outputs"
   ]
  },
  {
   "cell_type": "code",
   "execution_count": 82,
   "id": "3437cfbe",
   "metadata": {
    "height": 132
   },
   "outputs": [
    {
     "name": "stdout",
     "output_type": "stream",
     "text": [
      "Example 0:\n",
      "Question: Are there any apple orchards using your product?\n",
      "Real Answer: Yes, Ørskov Food is for example a customer\n",
      "Predicted Answer: Yes, Ørskov Foods, Denmark's largest producer of apples, is using SoilSense to control the growth of their apple trees and optimize water usage.\n",
      "Predicted Grade: CORRECT\n",
      "\n",
      "Example 1:\n",
      "Question: Does the system automatically conduct data analysis on the soil measurements?\n",
      "Real Answer: Yes\n",
      "Predicted Answer: Yes, the system conducts automatic data analysis on the soil measurements to provide simple insights.\n",
      "Predicted Grade: CORRECT\n",
      "\n",
      "Example 2:\n",
      "Question: What does the soil sensor system offered by the company aim to help orchard managers, greenhouse growers, and high-value field crop farmers with?\n",
      "Real Answer: The soil sensor system offered by the company aims to help orchard managers, greenhouse growers, and high-value field crop farmers manage and optimize irrigation.\n",
      "Predicted Answer: The soil sensor system offered by the company aims to help orchard managers, greenhouse growers, and high-value field crop farmers with managing and optimizing irrigation, saving water, avoiding plant stress, increasing yield, reducing risk, and saving time.\n",
      "Predicted Grade: CORRECT\n",
      "\n",
      "Example 3:\n",
      "Question: What are the benefits of irrigating correctly throughout the varied phenological stages of crops?\n",
      "Real Answer: The benefits of irrigating correctly throughout the varied phenological stages of crops include increasing yield, reducing risk by getting notified immediately if the soil is getting too dry or an over-irrigation occurs, and saving time by eliminating the need for manual soil inspection.\n",
      "Predicted Answer: The benefits of irrigating correctly throughout the varied phenological stages of crops include:\n",
      "\n",
      "1. Increase yield: Proper irrigation at each stage of crop growth ensures that the plants receive the right amount of water, which can lead to increased yield and productivity.\n",
      "\n",
      "2. Reduce risk: By irrigating correctly, you can minimize the risk of under-irrigation or over-irrigation. This helps in maintaining optimal soil moisture levels and reduces the chances of crop stress or damage.\n",
      "\n",
      "3. Save time: With a system that notifies you immediately if the soil is getting too dry or if over-irrigation occurs, you can save time on manually inspecting the soil. This allows you to focus on other important tasks in your farming operations.\n",
      "\n",
      "4. Avoiding plant stress: Accurate soil-moisture sensors can warn you before the soil becomes too dry and starts limiting plant growth. By irrigating correctly, you can prevent plant stress and ensure healthy crop development.\n",
      "\n",
      "5. Saving water: Proper irrigation throughout different stages of crop growth helps in optimizing water usage. By avoiding over-irrigation and irrigating only when necessary, you can conserve water resources and reduce water wastage.\n",
      "\n",
      "In summary, irrigating correctly throughout the varied phenological stages of crops can lead to increased yield, reduced risk, time savings, avoidance of plant stress, and water conservation.\n",
      "Predicted Grade: CORRECT\n",
      "\n",
      "Example 4:\n",
      "Question: Why did Markhaven switch from their previous soil sensor system to SoilSense?\n",
      "Real Answer: Markhaven switched from their previous soil sensor system to SoilSense because it was more reliable and easier to use.\n",
      "Predicted Answer: Markhaven switched from their previous soil sensor system to SoilSense because it was more reliable and easier to use.\n",
      "Predicted Grade: CORRECT\n",
      "\n",
      "Example 5:\n",
      "Question: Who is the Operational Manager at Ørskov Foods?\n",
      "Real Answer: Ole is the Operational Manager at Ørskov Foods.\n",
      "Predicted Answer: The Operational Manager at Ørskov Foods is Ole.\n",
      "Predicted Grade: CORRECT\n",
      "\n",
      "Example 6:\n",
      "Question: What are some features of the soil sensing system mentioned in the document?\n",
      "Real Answer: Some features of the soil sensing system mentioned in the document include the best soil moisture sensors, thoroughly tested wireless infrastructure, automatic data analysis, and an easy to use software platform.\n",
      "Predicted Answer: Some features of the soil sensing system mentioned in the document include:\n",
      "\n",
      "1. Accurate soil-moisture sensors: These sensors ensure that you are warned before the soil becomes too dry and starts limiting plant growth.\n",
      "\n",
      "2. Automatic detection of field capacity: The system's algorithms can detect the field capacity and warn you if you over-irrigate, helping you save water.\n",
      "\n",
      "3. SoilSense Online Dashboard: Access your data from any device (phone, tablet, or computer) and get a real-time overview 24/7.\n",
      "\n",
      "4. Quick overview: Obtain an overview of water requirements while on the go and dive into the details with a single click.\n",
      "\n",
      "5. Alarms and notifications: Set alarms and receive notifications directly on your phone via Whatsapp or SMS if critical parameters reach the thresholds you set.\n",
      "\n",
      "6. Detailed analysis: The intuitive interface allows you to navigate and examine the relationship between temperature, moisture, and plant growth, helping you make better decisions when planning irrigation.\n",
      "Predicted Grade: CORRECT\n",
      "\n"
     ]
    }
   ],
   "source": [
    "for i, eg in enumerate(examples):\n",
    "    print(f\"Example {i}:\")\n",
    "    print(\"Question: \" + predictions[i]['query'])\n",
    "    print(\"Real Answer: \" + predictions[i]['answer'])\n",
    "    print(\"Predicted Answer: \" + predictions[i]['result'])\n",
    "    print(\"Predicted Grade: \" + graded_outputs[i]['results'])\n",
    "    print()"
   ]
  },
  {
   "cell_type": "markdown",
   "id": "fad0ddd1",
   "metadata": {},
   "source": [
    "## LangChain evaluation platform"
   ]
  },
  {
   "cell_type": "markdown",
   "id": "ef63bb24",
   "metadata": {},
   "source": [
    "The LangChain evaluation platform, LangChain Plus, can be accessed here https://www.langchain.plus/."
   ]
  },
  {
   "cell_type": "code",
   "execution_count": null,
   "id": "be5b2aae",
   "metadata": {
    "height": 30
   },
   "outputs": [],
   "source": []
  },
  {
   "cell_type": "code",
   "execution_count": null,
   "id": "319798ba",
   "metadata": {
    "height": 30
   },
   "outputs": [],
   "source": []
  },
  {
   "cell_type": "code",
   "execution_count": null,
   "id": "89a504ad",
   "metadata": {
    "height": 30
   },
   "outputs": [],
   "source": []
  },
  {
   "cell_type": "code",
   "execution_count": null,
   "id": "dedd758b",
   "metadata": {
    "height": 30
   },
   "outputs": [],
   "source": []
  },
  {
   "cell_type": "code",
   "execution_count": null,
   "id": "36885b20",
   "metadata": {
    "height": 30
   },
   "outputs": [],
   "source": []
  },
  {
   "cell_type": "code",
   "execution_count": null,
   "id": "65c6cfb6",
   "metadata": {
    "height": 30
   },
   "outputs": [],
   "source": []
  },
  {
   "cell_type": "code",
   "execution_count": null,
   "id": "9ad3c7cc",
   "metadata": {
    "height": 30
   },
   "outputs": [],
   "source": []
  },
  {
   "cell_type": "code",
   "execution_count": null,
   "id": "26ac493e",
   "metadata": {
    "height": 30
   },
   "outputs": [],
   "source": []
  },
  {
   "cell_type": "code",
   "execution_count": null,
   "id": "f94cdacd",
   "metadata": {
    "height": 30
   },
   "outputs": [],
   "source": []
  }
 ],
 "metadata": {
  "kernelspec": {
   "display_name": "Python 3 (ipykernel)",
   "language": "python",
   "name": "python3"
  },
  "language_info": {
   "codemirror_mode": {
    "name": "ipython",
    "version": 3
   },
   "file_extension": ".py",
   "mimetype": "text/x-python",
   "name": "python",
   "nbconvert_exporter": "python",
   "pygments_lexer": "ipython3",
   "version": "3.11.4"
  }
 },
 "nbformat": 4,
 "nbformat_minor": 5
}
